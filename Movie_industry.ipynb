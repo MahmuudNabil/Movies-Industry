{
  "nbformat": 4,
  "nbformat_minor": 0,
  "metadata": {
    "colab": {
      "name": "Movie_industry.ipynb",
      "provenance": [],
      "collapsed_sections": [],
      "mount_file_id": "1s7v0v6ABwCIyyLIoW6q8_iXVdUV4Q3z4",
      "authorship_tag": "ABX9TyN0tFfuec0RQfzS7hWkGBoE",
      "include_colab_link": true
    },
    "kernelspec": {
      "name": "python3",
      "display_name": "Python 3"
    },
    "language_info": {
      "name": "python"
    }
  },
  "cells": [
    {
      "cell_type": "markdown",
      "metadata": {
        "id": "view-in-github",
        "colab_type": "text"
      },
      "source": [
        "<a href=\"https://colab.research.google.com/github/mahmoud2571587/Movies-Industry/blob/main/Movie_industry.ipynb\" target=\"_parent\"><img src=\"https://colab.research.google.com/assets/colab-badge.svg\" alt=\"Open In Colab\"/></a>"
      ]
    },
    {
      "cell_type": "markdown",
      "source": [
        "<h1>MOVIE INDUSTRY</h1>"
      ],
      "metadata": {
        "id": "xpzyCnJ5wOFR"
      }
    },
    {
      "cell_type": "markdown",
      "source": [
        "<h2> 1- Read Data </h2>"
      ],
      "metadata": {
        "id": "k8pQbtLJPQYF"
      }
    },
    {
      "cell_type": "markdown",
      "source": [
        "import libraries"
      ],
      "metadata": {
        "id": "uZ4ptydBwLXZ"
      }
    },
    {
      "cell_type": "code",
      "source": [
        "import numpy as np\n",
        "import pandas as pd\n",
        "import seaborn as sns\n",
        "import matplotlib_inline\n",
        "import matplotlib.pyplot as plt\n",
        "%matplotlib inline\n"
      ],
      "metadata": {
        "id": "US3HKI3jwKvy"
      },
      "execution_count": 59,
      "outputs": []
    },
    {
      "cell_type": "markdown",
      "source": [
        "read data"
      ],
      "metadata": {
        "id": "gKxy6k84yqRz"
      }
    },
    {
      "cell_type": "code",
      "execution_count": 60,
      "metadata": {
        "id": "ztArFJkVuRt3"
      },
      "outputs": [],
      "source": [
        "df = pd.read_csv('/content/drive/MyDrive/Colab Notebooks/Movie Industry/movies.csv')"
      ]
    },
    {
      "cell_type": "markdown",
      "source": [
        "<h3> let's start making EDA & understanding Data </h3>\n",
        "<div>----------------------------------------------</div>\n",
        "first we can look at the name of columns and rename it to become more informative and easy to read"
      ],
      "metadata": {
        "id": "kHHs1qdd2zJX"
      }
    },
    {
      "cell_type": "code",
      "source": [
        "df.columns"
      ],
      "metadata": {
        "colab": {
          "base_uri": "https://localhost:8080/"
        },
        "id": "JW2GYoosy1Dq",
        "outputId": "b3261785-32b9-4a9b-e31d-39dbe6a88c4a"
      },
      "execution_count": 61,
      "outputs": [
        {
          "output_type": "execute_result",
          "data": {
            "text/plain": [
              "Index(['name', 'rating', 'genre', 'year', 'released', 'score', 'votes',\n",
              "       'director', 'writer', 'star', 'country', 'budget', 'gross', 'company',\n",
              "       'runtime'],\n",
              "      dtype='object')"
            ]
          },
          "metadata": {},
          "execution_count": 61
        }
      ]
    },
    {
      "cell_type": "code",
      "source": [
        "new_col = ['mov_name' , 'mov_rating' , 'mov_genre' , 'released_year','released_date' , 'imdb_usr_score' , \n",
        "           'usr_votes' , 'director_name' , 'writer_name' ,'star_name' , 'country_origin' ,'mov_budget'  ,\n",
        "           'mov_gross', 'prod_company' , 'mov_runtime']\n",
        "df.columns = new_col\n",
        "df.head()"
      ],
      "metadata": {
        "colab": {
          "base_uri": "https://localhost:8080/",
          "height": 426
        },
        "id": "oiZS4jTCy9l4",
        "outputId": "52500538-81ca-497c-8c54-d06a3b18b786"
      },
      "execution_count": 62,
      "outputs": [
        {
          "output_type": "execute_result",
          "data": {
            "text/plain": [
              "                                         mov_name mov_rating  mov_genre  \\\n",
              "0                                     The Shining          R      Drama   \n",
              "1                                 The Blue Lagoon          R  Adventure   \n",
              "2  Star Wars: Episode V - The Empire Strikes Back         PG     Action   \n",
              "3                                       Airplane!         PG     Comedy   \n",
              "4                                      Caddyshack          R     Comedy   \n",
              "\n",
              "   released_year                  released_date  imdb_usr_score  usr_votes  \\\n",
              "0           1980  June 13, 1980 (United States)             8.4   927000.0   \n",
              "1           1980   July 2, 1980 (United States)             5.8    65000.0   \n",
              "2           1980  June 20, 1980 (United States)             8.7  1200000.0   \n",
              "3           1980   July 2, 1980 (United States)             7.7   221000.0   \n",
              "4           1980  July 25, 1980 (United States)             7.3   108000.0   \n",
              "\n",
              "     director_name              writer_name       star_name  country_origin  \\\n",
              "0  Stanley Kubrick             Stephen King  Jack Nicholson  United Kingdom   \n",
              "1   Randal Kleiser  Henry De Vere Stacpoole  Brooke Shields   United States   \n",
              "2   Irvin Kershner           Leigh Brackett     Mark Hamill   United States   \n",
              "3     Jim Abrahams             Jim Abrahams     Robert Hays   United States   \n",
              "4     Harold Ramis       Brian Doyle-Murray     Chevy Chase   United States   \n",
              "\n",
              "   mov_budget    mov_gross        prod_company  mov_runtime  \n",
              "0  19000000.0   46998772.0        Warner Bros.        146.0  \n",
              "1   4500000.0   58853106.0   Columbia Pictures        104.0  \n",
              "2  18000000.0  538375067.0           Lucasfilm        124.0  \n",
              "3   3500000.0   83453539.0  Paramount Pictures         88.0  \n",
              "4   6000000.0   39846344.0      Orion Pictures         98.0  "
            ],
            "text/html": [
              "\n",
              "  <div id=\"df-f5db3ffb-39d3-4c51-8d3c-47b3004a5936\">\n",
              "    <div class=\"colab-df-container\">\n",
              "      <div>\n",
              "<style scoped>\n",
              "    .dataframe tbody tr th:only-of-type {\n",
              "        vertical-align: middle;\n",
              "    }\n",
              "\n",
              "    .dataframe tbody tr th {\n",
              "        vertical-align: top;\n",
              "    }\n",
              "\n",
              "    .dataframe thead th {\n",
              "        text-align: right;\n",
              "    }\n",
              "</style>\n",
              "<table border=\"1\" class=\"dataframe\">\n",
              "  <thead>\n",
              "    <tr style=\"text-align: right;\">\n",
              "      <th></th>\n",
              "      <th>mov_name</th>\n",
              "      <th>mov_rating</th>\n",
              "      <th>mov_genre</th>\n",
              "      <th>released_year</th>\n",
              "      <th>released_date</th>\n",
              "      <th>imdb_usr_score</th>\n",
              "      <th>usr_votes</th>\n",
              "      <th>director_name</th>\n",
              "      <th>writer_name</th>\n",
              "      <th>star_name</th>\n",
              "      <th>country_origin</th>\n",
              "      <th>mov_budget</th>\n",
              "      <th>mov_gross</th>\n",
              "      <th>prod_company</th>\n",
              "      <th>mov_runtime</th>\n",
              "    </tr>\n",
              "  </thead>\n",
              "  <tbody>\n",
              "    <tr>\n",
              "      <th>0</th>\n",
              "      <td>The Shining</td>\n",
              "      <td>R</td>\n",
              "      <td>Drama</td>\n",
              "      <td>1980</td>\n",
              "      <td>June 13, 1980 (United States)</td>\n",
              "      <td>8.4</td>\n",
              "      <td>927000.0</td>\n",
              "      <td>Stanley Kubrick</td>\n",
              "      <td>Stephen King</td>\n",
              "      <td>Jack Nicholson</td>\n",
              "      <td>United Kingdom</td>\n",
              "      <td>19000000.0</td>\n",
              "      <td>46998772.0</td>\n",
              "      <td>Warner Bros.</td>\n",
              "      <td>146.0</td>\n",
              "    </tr>\n",
              "    <tr>\n",
              "      <th>1</th>\n",
              "      <td>The Blue Lagoon</td>\n",
              "      <td>R</td>\n",
              "      <td>Adventure</td>\n",
              "      <td>1980</td>\n",
              "      <td>July 2, 1980 (United States)</td>\n",
              "      <td>5.8</td>\n",
              "      <td>65000.0</td>\n",
              "      <td>Randal Kleiser</td>\n",
              "      <td>Henry De Vere Stacpoole</td>\n",
              "      <td>Brooke Shields</td>\n",
              "      <td>United States</td>\n",
              "      <td>4500000.0</td>\n",
              "      <td>58853106.0</td>\n",
              "      <td>Columbia Pictures</td>\n",
              "      <td>104.0</td>\n",
              "    </tr>\n",
              "    <tr>\n",
              "      <th>2</th>\n",
              "      <td>Star Wars: Episode V - The Empire Strikes Back</td>\n",
              "      <td>PG</td>\n",
              "      <td>Action</td>\n",
              "      <td>1980</td>\n",
              "      <td>June 20, 1980 (United States)</td>\n",
              "      <td>8.7</td>\n",
              "      <td>1200000.0</td>\n",
              "      <td>Irvin Kershner</td>\n",
              "      <td>Leigh Brackett</td>\n",
              "      <td>Mark Hamill</td>\n",
              "      <td>United States</td>\n",
              "      <td>18000000.0</td>\n",
              "      <td>538375067.0</td>\n",
              "      <td>Lucasfilm</td>\n",
              "      <td>124.0</td>\n",
              "    </tr>\n",
              "    <tr>\n",
              "      <th>3</th>\n",
              "      <td>Airplane!</td>\n",
              "      <td>PG</td>\n",
              "      <td>Comedy</td>\n",
              "      <td>1980</td>\n",
              "      <td>July 2, 1980 (United States)</td>\n",
              "      <td>7.7</td>\n",
              "      <td>221000.0</td>\n",
              "      <td>Jim Abrahams</td>\n",
              "      <td>Jim Abrahams</td>\n",
              "      <td>Robert Hays</td>\n",
              "      <td>United States</td>\n",
              "      <td>3500000.0</td>\n",
              "      <td>83453539.0</td>\n",
              "      <td>Paramount Pictures</td>\n",
              "      <td>88.0</td>\n",
              "    </tr>\n",
              "    <tr>\n",
              "      <th>4</th>\n",
              "      <td>Caddyshack</td>\n",
              "      <td>R</td>\n",
              "      <td>Comedy</td>\n",
              "      <td>1980</td>\n",
              "      <td>July 25, 1980 (United States)</td>\n",
              "      <td>7.3</td>\n",
              "      <td>108000.0</td>\n",
              "      <td>Harold Ramis</td>\n",
              "      <td>Brian Doyle-Murray</td>\n",
              "      <td>Chevy Chase</td>\n",
              "      <td>United States</td>\n",
              "      <td>6000000.0</td>\n",
              "      <td>39846344.0</td>\n",
              "      <td>Orion Pictures</td>\n",
              "      <td>98.0</td>\n",
              "    </tr>\n",
              "  </tbody>\n",
              "</table>\n",
              "</div>\n",
              "      <button class=\"colab-df-convert\" onclick=\"convertToInteractive('df-f5db3ffb-39d3-4c51-8d3c-47b3004a5936')\"\n",
              "              title=\"Convert this dataframe to an interactive table.\"\n",
              "              style=\"display:none;\">\n",
              "        \n",
              "  <svg xmlns=\"http://www.w3.org/2000/svg\" height=\"24px\"viewBox=\"0 0 24 24\"\n",
              "       width=\"24px\">\n",
              "    <path d=\"M0 0h24v24H0V0z\" fill=\"none\"/>\n",
              "    <path d=\"M18.56 5.44l.94 2.06.94-2.06 2.06-.94-2.06-.94-.94-2.06-.94 2.06-2.06.94zm-11 1L8.5 8.5l.94-2.06 2.06-.94-2.06-.94L8.5 2.5l-.94 2.06-2.06.94zm10 10l.94 2.06.94-2.06 2.06-.94-2.06-.94-.94-2.06-.94 2.06-2.06.94z\"/><path d=\"M17.41 7.96l-1.37-1.37c-.4-.4-.92-.59-1.43-.59-.52 0-1.04.2-1.43.59L10.3 9.45l-7.72 7.72c-.78.78-.78 2.05 0 2.83L4 21.41c.39.39.9.59 1.41.59.51 0 1.02-.2 1.41-.59l7.78-7.78 2.81-2.81c.8-.78.8-2.07 0-2.86zM5.41 20L4 18.59l7.72-7.72 1.47 1.35L5.41 20z\"/>\n",
              "  </svg>\n",
              "      </button>\n",
              "      \n",
              "  <style>\n",
              "    .colab-df-container {\n",
              "      display:flex;\n",
              "      flex-wrap:wrap;\n",
              "      gap: 12px;\n",
              "    }\n",
              "\n",
              "    .colab-df-convert {\n",
              "      background-color: #E8F0FE;\n",
              "      border: none;\n",
              "      border-radius: 50%;\n",
              "      cursor: pointer;\n",
              "      display: none;\n",
              "      fill: #1967D2;\n",
              "      height: 32px;\n",
              "      padding: 0 0 0 0;\n",
              "      width: 32px;\n",
              "    }\n",
              "\n",
              "    .colab-df-convert:hover {\n",
              "      background-color: #E2EBFA;\n",
              "      box-shadow: 0px 1px 2px rgba(60, 64, 67, 0.3), 0px 1px 3px 1px rgba(60, 64, 67, 0.15);\n",
              "      fill: #174EA6;\n",
              "    }\n",
              "\n",
              "    [theme=dark] .colab-df-convert {\n",
              "      background-color: #3B4455;\n",
              "      fill: #D2E3FC;\n",
              "    }\n",
              "\n",
              "    [theme=dark] .colab-df-convert:hover {\n",
              "      background-color: #434B5C;\n",
              "      box-shadow: 0px 1px 3px 1px rgba(0, 0, 0, 0.15);\n",
              "      filter: drop-shadow(0px 1px 2px rgba(0, 0, 0, 0.3));\n",
              "      fill: #FFFFFF;\n",
              "    }\n",
              "  </style>\n",
              "\n",
              "      <script>\n",
              "        const buttonEl =\n",
              "          document.querySelector('#df-f5db3ffb-39d3-4c51-8d3c-47b3004a5936 button.colab-df-convert');\n",
              "        buttonEl.style.display =\n",
              "          google.colab.kernel.accessAllowed ? 'block' : 'none';\n",
              "\n",
              "        async function convertToInteractive(key) {\n",
              "          const element = document.querySelector('#df-f5db3ffb-39d3-4c51-8d3c-47b3004a5936');\n",
              "          const dataTable =\n",
              "            await google.colab.kernel.invokeFunction('convertToInteractive',\n",
              "                                                     [key], {});\n",
              "          if (!dataTable) return;\n",
              "\n",
              "          const docLinkHtml = 'Like what you see? Visit the ' +\n",
              "            '<a target=\"_blank\" href=https://colab.research.google.com/notebooks/data_table.ipynb>data table notebook</a>'\n",
              "            + ' to learn more about interactive tables.';\n",
              "          element.innerHTML = '';\n",
              "          dataTable['output_type'] = 'display_data';\n",
              "          await google.colab.output.renderOutput(dataTable, element);\n",
              "          const docLink = document.createElement('div');\n",
              "          docLink.innerHTML = docLinkHtml;\n",
              "          element.appendChild(docLink);\n",
              "        }\n",
              "      </script>\n",
              "    </div>\n",
              "  </div>\n",
              "  "
            ]
          },
          "metadata": {},
          "execution_count": 62
        }
      ]
    },
    {
      "cell_type": "markdown",
      "source": [
        "\n",
        "<h2> 2- Exploring Data </h2>"
      ],
      "metadata": {
        "id": "8OhhMc_YP0oX"
      }
    },
    {
      "cell_type": "markdown",
      "source": [
        "<h3> let's explore data types </h3>"
      ],
      "metadata": {
        "id": "nj-9e6QC3UgH"
      }
    },
    {
      "cell_type": "code",
      "source": [
        "df.shape"
      ],
      "metadata": {
        "colab": {
          "base_uri": "https://localhost:8080/"
        },
        "id": "Z4-HyuEdB3F4",
        "outputId": "da8c4763-f0ee-4fa5-b4b7-b2a933b4eef2"
      },
      "execution_count": 63,
      "outputs": [
        {
          "output_type": "execute_result",
          "data": {
            "text/plain": [
              "(7668, 15)"
            ]
          },
          "metadata": {},
          "execution_count": 63
        }
      ]
    },
    {
      "cell_type": "code",
      "source": [
        "df.describe()"
      ],
      "metadata": {
        "colab": {
          "base_uri": "https://localhost:8080/",
          "height": 364
        },
        "id": "kWqNj-kBBs7H",
        "outputId": "558b8c34-2e0a-4169-8e8f-157c1cbbb1c5"
      },
      "execution_count": 64,
      "outputs": [
        {
          "output_type": "execute_result",
          "data": {
            "text/plain": [
              "       released_year  imdb_usr_score     usr_votes    mov_budget  \\\n",
              "count    7668.000000     7665.000000  7.665000e+03  5.497000e+03   \n",
              "mean     2000.405451        6.390411  8.810850e+04  3.558988e+07   \n",
              "std        11.153508        0.968842  1.633238e+05  4.145730e+07   \n",
              "min      1980.000000        1.900000  7.000000e+00  3.000000e+03   \n",
              "25%      1991.000000        5.800000  9.100000e+03  1.000000e+07   \n",
              "50%      2000.000000        6.500000  3.300000e+04  2.050000e+07   \n",
              "75%      2010.000000        7.100000  9.300000e+04  4.500000e+07   \n",
              "max      2020.000000        9.300000  2.400000e+06  3.560000e+08   \n",
              "\n",
              "          mov_gross  mov_runtime  \n",
              "count  7.479000e+03  7664.000000  \n",
              "mean   7.850054e+07   107.261613  \n",
              "std    1.657251e+08    18.581247  \n",
              "min    3.090000e+02    55.000000  \n",
              "25%    4.532056e+06    95.000000  \n",
              "50%    2.020576e+07   104.000000  \n",
              "75%    7.601669e+07   116.000000  \n",
              "max    2.847246e+09   366.000000  "
            ],
            "text/html": [
              "\n",
              "  <div id=\"df-962f41f7-5744-4629-995b-b1a27b7875a7\">\n",
              "    <div class=\"colab-df-container\">\n",
              "      <div>\n",
              "<style scoped>\n",
              "    .dataframe tbody tr th:only-of-type {\n",
              "        vertical-align: middle;\n",
              "    }\n",
              "\n",
              "    .dataframe tbody tr th {\n",
              "        vertical-align: top;\n",
              "    }\n",
              "\n",
              "    .dataframe thead th {\n",
              "        text-align: right;\n",
              "    }\n",
              "</style>\n",
              "<table border=\"1\" class=\"dataframe\">\n",
              "  <thead>\n",
              "    <tr style=\"text-align: right;\">\n",
              "      <th></th>\n",
              "      <th>released_year</th>\n",
              "      <th>imdb_usr_score</th>\n",
              "      <th>usr_votes</th>\n",
              "      <th>mov_budget</th>\n",
              "      <th>mov_gross</th>\n",
              "      <th>mov_runtime</th>\n",
              "    </tr>\n",
              "  </thead>\n",
              "  <tbody>\n",
              "    <tr>\n",
              "      <th>count</th>\n",
              "      <td>7668.000000</td>\n",
              "      <td>7665.000000</td>\n",
              "      <td>7.665000e+03</td>\n",
              "      <td>5.497000e+03</td>\n",
              "      <td>7.479000e+03</td>\n",
              "      <td>7664.000000</td>\n",
              "    </tr>\n",
              "    <tr>\n",
              "      <th>mean</th>\n",
              "      <td>2000.405451</td>\n",
              "      <td>6.390411</td>\n",
              "      <td>8.810850e+04</td>\n",
              "      <td>3.558988e+07</td>\n",
              "      <td>7.850054e+07</td>\n",
              "      <td>107.261613</td>\n",
              "    </tr>\n",
              "    <tr>\n",
              "      <th>std</th>\n",
              "      <td>11.153508</td>\n",
              "      <td>0.968842</td>\n",
              "      <td>1.633238e+05</td>\n",
              "      <td>4.145730e+07</td>\n",
              "      <td>1.657251e+08</td>\n",
              "      <td>18.581247</td>\n",
              "    </tr>\n",
              "    <tr>\n",
              "      <th>min</th>\n",
              "      <td>1980.000000</td>\n",
              "      <td>1.900000</td>\n",
              "      <td>7.000000e+00</td>\n",
              "      <td>3.000000e+03</td>\n",
              "      <td>3.090000e+02</td>\n",
              "      <td>55.000000</td>\n",
              "    </tr>\n",
              "    <tr>\n",
              "      <th>25%</th>\n",
              "      <td>1991.000000</td>\n",
              "      <td>5.800000</td>\n",
              "      <td>9.100000e+03</td>\n",
              "      <td>1.000000e+07</td>\n",
              "      <td>4.532056e+06</td>\n",
              "      <td>95.000000</td>\n",
              "    </tr>\n",
              "    <tr>\n",
              "      <th>50%</th>\n",
              "      <td>2000.000000</td>\n",
              "      <td>6.500000</td>\n",
              "      <td>3.300000e+04</td>\n",
              "      <td>2.050000e+07</td>\n",
              "      <td>2.020576e+07</td>\n",
              "      <td>104.000000</td>\n",
              "    </tr>\n",
              "    <tr>\n",
              "      <th>75%</th>\n",
              "      <td>2010.000000</td>\n",
              "      <td>7.100000</td>\n",
              "      <td>9.300000e+04</td>\n",
              "      <td>4.500000e+07</td>\n",
              "      <td>7.601669e+07</td>\n",
              "      <td>116.000000</td>\n",
              "    </tr>\n",
              "    <tr>\n",
              "      <th>max</th>\n",
              "      <td>2020.000000</td>\n",
              "      <td>9.300000</td>\n",
              "      <td>2.400000e+06</td>\n",
              "      <td>3.560000e+08</td>\n",
              "      <td>2.847246e+09</td>\n",
              "      <td>366.000000</td>\n",
              "    </tr>\n",
              "  </tbody>\n",
              "</table>\n",
              "</div>\n",
              "      <button class=\"colab-df-convert\" onclick=\"convertToInteractive('df-962f41f7-5744-4629-995b-b1a27b7875a7')\"\n",
              "              title=\"Convert this dataframe to an interactive table.\"\n",
              "              style=\"display:none;\">\n",
              "        \n",
              "  <svg xmlns=\"http://www.w3.org/2000/svg\" height=\"24px\"viewBox=\"0 0 24 24\"\n",
              "       width=\"24px\">\n",
              "    <path d=\"M0 0h24v24H0V0z\" fill=\"none\"/>\n",
              "    <path d=\"M18.56 5.44l.94 2.06.94-2.06 2.06-.94-2.06-.94-.94-2.06-.94 2.06-2.06.94zm-11 1L8.5 8.5l.94-2.06 2.06-.94-2.06-.94L8.5 2.5l-.94 2.06-2.06.94zm10 10l.94 2.06.94-2.06 2.06-.94-2.06-.94-.94-2.06-.94 2.06-2.06.94z\"/><path d=\"M17.41 7.96l-1.37-1.37c-.4-.4-.92-.59-1.43-.59-.52 0-1.04.2-1.43.59L10.3 9.45l-7.72 7.72c-.78.78-.78 2.05 0 2.83L4 21.41c.39.39.9.59 1.41.59.51 0 1.02-.2 1.41-.59l7.78-7.78 2.81-2.81c.8-.78.8-2.07 0-2.86zM5.41 20L4 18.59l7.72-7.72 1.47 1.35L5.41 20z\"/>\n",
              "  </svg>\n",
              "      </button>\n",
              "      \n",
              "  <style>\n",
              "    .colab-df-container {\n",
              "      display:flex;\n",
              "      flex-wrap:wrap;\n",
              "      gap: 12px;\n",
              "    }\n",
              "\n",
              "    .colab-df-convert {\n",
              "      background-color: #E8F0FE;\n",
              "      border: none;\n",
              "      border-radius: 50%;\n",
              "      cursor: pointer;\n",
              "      display: none;\n",
              "      fill: #1967D2;\n",
              "      height: 32px;\n",
              "      padding: 0 0 0 0;\n",
              "      width: 32px;\n",
              "    }\n",
              "\n",
              "    .colab-df-convert:hover {\n",
              "      background-color: #E2EBFA;\n",
              "      box-shadow: 0px 1px 2px rgba(60, 64, 67, 0.3), 0px 1px 3px 1px rgba(60, 64, 67, 0.15);\n",
              "      fill: #174EA6;\n",
              "    }\n",
              "\n",
              "    [theme=dark] .colab-df-convert {\n",
              "      background-color: #3B4455;\n",
              "      fill: #D2E3FC;\n",
              "    }\n",
              "\n",
              "    [theme=dark] .colab-df-convert:hover {\n",
              "      background-color: #434B5C;\n",
              "      box-shadow: 0px 1px 3px 1px rgba(0, 0, 0, 0.15);\n",
              "      filter: drop-shadow(0px 1px 2px rgba(0, 0, 0, 0.3));\n",
              "      fill: #FFFFFF;\n",
              "    }\n",
              "  </style>\n",
              "\n",
              "      <script>\n",
              "        const buttonEl =\n",
              "          document.querySelector('#df-962f41f7-5744-4629-995b-b1a27b7875a7 button.colab-df-convert');\n",
              "        buttonEl.style.display =\n",
              "          google.colab.kernel.accessAllowed ? 'block' : 'none';\n",
              "\n",
              "        async function convertToInteractive(key) {\n",
              "          const element = document.querySelector('#df-962f41f7-5744-4629-995b-b1a27b7875a7');\n",
              "          const dataTable =\n",
              "            await google.colab.kernel.invokeFunction('convertToInteractive',\n",
              "                                                     [key], {});\n",
              "          if (!dataTable) return;\n",
              "\n",
              "          const docLinkHtml = 'Like what you see? Visit the ' +\n",
              "            '<a target=\"_blank\" href=https://colab.research.google.com/notebooks/data_table.ipynb>data table notebook</a>'\n",
              "            + ' to learn more about interactive tables.';\n",
              "          element.innerHTML = '';\n",
              "          dataTable['output_type'] = 'display_data';\n",
              "          await google.colab.output.renderOutput(dataTable, element);\n",
              "          const docLink = document.createElement('div');\n",
              "          docLink.innerHTML = docLinkHtml;\n",
              "          element.appendChild(docLink);\n",
              "        }\n",
              "      </script>\n",
              "    </div>\n",
              "  </div>\n",
              "  "
            ]
          },
          "metadata": {},
          "execution_count": 64
        }
      ]
    },
    {
      "cell_type": "markdown",
      "source": [
        "data has (7668) record and has missing value\n",
        "\n",
        "movies (1980 - 2020)\n",
        "\n",
        "imbd_usr_score  has range (0.0 - 10.0)\n",
        "\n",
        "\n",
        "mov_runtime    measure using (miniutes)"
      ],
      "metadata": {
        "id": "xk6eorX-DPue"
      }
    },
    {
      "cell_type": "code",
      "source": [
        "df.dtypes"
      ],
      "metadata": {
        "colab": {
          "base_uri": "https://localhost:8080/"
        },
        "id": "tSH-fV8p3YD_",
        "outputId": "4d47e846-065b-4d17-f372-31283e7caac7"
      },
      "execution_count": 65,
      "outputs": [
        {
          "output_type": "execute_result",
          "data": {
            "text/plain": [
              "mov_name           object\n",
              "mov_rating         object\n",
              "mov_genre          object\n",
              "released_year       int64\n",
              "released_date      object\n",
              "imdb_usr_score    float64\n",
              "usr_votes         float64\n",
              "director_name      object\n",
              "writer_name        object\n",
              "star_name          object\n",
              "country_origin     object\n",
              "mov_budget        float64\n",
              "mov_gross         float64\n",
              "prod_company       object\n",
              "mov_runtime       float64\n",
              "dtype: object"
            ]
          },
          "metadata": {},
          "execution_count": 65
        }
      ]
    },
    {
      "cell_type": "markdown",
      "source": [
        "*   released_date       (should be a date )\n",
        "*   usr_votes          (should be int and has null value)\n",
        "*   mov_budget         (should be int and has null value)\n",
        "*   mov_gross          (should be int and has null value)\n",
        "\n",
        "<div> =========================================</div>\n",
        "\n",
        "**Categorical columns :**\n",
        "mov_name , mov_rating , mov_genre, director_name , star_name , writer_name ,country_origin ,prod_company\n",
        "\n",
        "**Numerica columns :** imdb_usr_score , usr_votes,mov_budget , mov_gross , mov_runtime ,released_year\n",
        "\n",
        "**date columns :**  released_year , released_date \n",
        "\n",
        "\n",
        "\n",
        "\n",
        "\n",
        "\n",
        "\n",
        "\n"
      ],
      "metadata": {
        "id": "kcEaRiDA4-3o"
      }
    },
    {
      "cell_type": "markdown",
      "source": [
        "<h3>let's explore Missing values </h3>"
      ],
      "metadata": {
        "id": "UcTN3InUAxNx"
      }
    },
    {
      "cell_type": "code",
      "source": [
        "df.isnull().sum().sort_values(ascending =False)"
      ],
      "metadata": {
        "colab": {
          "base_uri": "https://localhost:8080/"
        },
        "id": "dTkjTPl16D9V",
        "outputId": "ec2618c5-a496-4c97-90af-f1b9ed9ab062"
      },
      "execution_count": 66,
      "outputs": [
        {
          "output_type": "execute_result",
          "data": {
            "text/plain": [
              "mov_budget        2171\n",
              "mov_gross          189\n",
              "mov_rating          77\n",
              "prod_company        17\n",
              "mov_runtime          4\n",
              "imdb_usr_score       3\n",
              "usr_votes            3\n",
              "writer_name          3\n",
              "country_origin       3\n",
              "released_date        2\n",
              "star_name            1\n",
              "mov_name             0\n",
              "mov_genre            0\n",
              "released_year        0\n",
              "director_name        0\n",
              "dtype: int64"
            ]
          },
          "metadata": {},
          "execution_count": 66
        }
      ]
    },
    {
      "cell_type": "markdown",
      "source": [
        "percentage of missing value"
      ],
      "metadata": {
        "id": "5NlZtpNYJMok"
      }
    },
    {
      "cell_type": "code",
      "source": [
        "def missing_value (df):\n",
        "  miss_value = df.isnull().sum().sort_values(ascending =False)\n",
        "  percent_miss_value = round(miss_value / len(df)*100 , 2)\n",
        "  return pd.concat((miss_value , percent_miss_value) , axis =1 ,keys =['total_miss' , 'percentage_miss'])"
      ],
      "metadata": {
        "id": "mfwehyAqHGbB"
      },
      "execution_count": 67,
      "outputs": []
    },
    {
      "cell_type": "code",
      "source": [
        "missing_value(df)"
      ],
      "metadata": {
        "colab": {
          "base_uri": "https://localhost:8080/",
          "height": 520
        },
        "id": "AtUPLdJZIU1O",
        "outputId": "ef686842-f39a-4116-fae2-61dd89227ff0"
      },
      "execution_count": 68,
      "outputs": [
        {
          "output_type": "execute_result",
          "data": {
            "text/plain": [
              "                total_miss  percentage_miss\n",
              "mov_budget            2171            28.31\n",
              "mov_gross              189             2.46\n",
              "mov_rating              77             1.00\n",
              "prod_company            17             0.22\n",
              "mov_runtime              4             0.05\n",
              "imdb_usr_score           3             0.04\n",
              "usr_votes                3             0.04\n",
              "writer_name              3             0.04\n",
              "country_origin           3             0.04\n",
              "released_date            2             0.03\n",
              "star_name                1             0.01\n",
              "mov_name                 0             0.00\n",
              "mov_genre                0             0.00\n",
              "released_year            0             0.00\n",
              "director_name            0             0.00"
            ],
            "text/html": [
              "\n",
              "  <div id=\"df-f90d629b-5d9d-4b0f-bc37-b1876f55a1fc\">\n",
              "    <div class=\"colab-df-container\">\n",
              "      <div>\n",
              "<style scoped>\n",
              "    .dataframe tbody tr th:only-of-type {\n",
              "        vertical-align: middle;\n",
              "    }\n",
              "\n",
              "    .dataframe tbody tr th {\n",
              "        vertical-align: top;\n",
              "    }\n",
              "\n",
              "    .dataframe thead th {\n",
              "        text-align: right;\n",
              "    }\n",
              "</style>\n",
              "<table border=\"1\" class=\"dataframe\">\n",
              "  <thead>\n",
              "    <tr style=\"text-align: right;\">\n",
              "      <th></th>\n",
              "      <th>total_miss</th>\n",
              "      <th>percentage_miss</th>\n",
              "    </tr>\n",
              "  </thead>\n",
              "  <tbody>\n",
              "    <tr>\n",
              "      <th>mov_budget</th>\n",
              "      <td>2171</td>\n",
              "      <td>28.31</td>\n",
              "    </tr>\n",
              "    <tr>\n",
              "      <th>mov_gross</th>\n",
              "      <td>189</td>\n",
              "      <td>2.46</td>\n",
              "    </tr>\n",
              "    <tr>\n",
              "      <th>mov_rating</th>\n",
              "      <td>77</td>\n",
              "      <td>1.00</td>\n",
              "    </tr>\n",
              "    <tr>\n",
              "      <th>prod_company</th>\n",
              "      <td>17</td>\n",
              "      <td>0.22</td>\n",
              "    </tr>\n",
              "    <tr>\n",
              "      <th>mov_runtime</th>\n",
              "      <td>4</td>\n",
              "      <td>0.05</td>\n",
              "    </tr>\n",
              "    <tr>\n",
              "      <th>imdb_usr_score</th>\n",
              "      <td>3</td>\n",
              "      <td>0.04</td>\n",
              "    </tr>\n",
              "    <tr>\n",
              "      <th>usr_votes</th>\n",
              "      <td>3</td>\n",
              "      <td>0.04</td>\n",
              "    </tr>\n",
              "    <tr>\n",
              "      <th>writer_name</th>\n",
              "      <td>3</td>\n",
              "      <td>0.04</td>\n",
              "    </tr>\n",
              "    <tr>\n",
              "      <th>country_origin</th>\n",
              "      <td>3</td>\n",
              "      <td>0.04</td>\n",
              "    </tr>\n",
              "    <tr>\n",
              "      <th>released_date</th>\n",
              "      <td>2</td>\n",
              "      <td>0.03</td>\n",
              "    </tr>\n",
              "    <tr>\n",
              "      <th>star_name</th>\n",
              "      <td>1</td>\n",
              "      <td>0.01</td>\n",
              "    </tr>\n",
              "    <tr>\n",
              "      <th>mov_name</th>\n",
              "      <td>0</td>\n",
              "      <td>0.00</td>\n",
              "    </tr>\n",
              "    <tr>\n",
              "      <th>mov_genre</th>\n",
              "      <td>0</td>\n",
              "      <td>0.00</td>\n",
              "    </tr>\n",
              "    <tr>\n",
              "      <th>released_year</th>\n",
              "      <td>0</td>\n",
              "      <td>0.00</td>\n",
              "    </tr>\n",
              "    <tr>\n",
              "      <th>director_name</th>\n",
              "      <td>0</td>\n",
              "      <td>0.00</td>\n",
              "    </tr>\n",
              "  </tbody>\n",
              "</table>\n",
              "</div>\n",
              "      <button class=\"colab-df-convert\" onclick=\"convertToInteractive('df-f90d629b-5d9d-4b0f-bc37-b1876f55a1fc')\"\n",
              "              title=\"Convert this dataframe to an interactive table.\"\n",
              "              style=\"display:none;\">\n",
              "        \n",
              "  <svg xmlns=\"http://www.w3.org/2000/svg\" height=\"24px\"viewBox=\"0 0 24 24\"\n",
              "       width=\"24px\">\n",
              "    <path d=\"M0 0h24v24H0V0z\" fill=\"none\"/>\n",
              "    <path d=\"M18.56 5.44l.94 2.06.94-2.06 2.06-.94-2.06-.94-.94-2.06-.94 2.06-2.06.94zm-11 1L8.5 8.5l.94-2.06 2.06-.94-2.06-.94L8.5 2.5l-.94 2.06-2.06.94zm10 10l.94 2.06.94-2.06 2.06-.94-2.06-.94-.94-2.06-.94 2.06-2.06.94z\"/><path d=\"M17.41 7.96l-1.37-1.37c-.4-.4-.92-.59-1.43-.59-.52 0-1.04.2-1.43.59L10.3 9.45l-7.72 7.72c-.78.78-.78 2.05 0 2.83L4 21.41c.39.39.9.59 1.41.59.51 0 1.02-.2 1.41-.59l7.78-7.78 2.81-2.81c.8-.78.8-2.07 0-2.86zM5.41 20L4 18.59l7.72-7.72 1.47 1.35L5.41 20z\"/>\n",
              "  </svg>\n",
              "      </button>\n",
              "      \n",
              "  <style>\n",
              "    .colab-df-container {\n",
              "      display:flex;\n",
              "      flex-wrap:wrap;\n",
              "      gap: 12px;\n",
              "    }\n",
              "\n",
              "    .colab-df-convert {\n",
              "      background-color: #E8F0FE;\n",
              "      border: none;\n",
              "      border-radius: 50%;\n",
              "      cursor: pointer;\n",
              "      display: none;\n",
              "      fill: #1967D2;\n",
              "      height: 32px;\n",
              "      padding: 0 0 0 0;\n",
              "      width: 32px;\n",
              "    }\n",
              "\n",
              "    .colab-df-convert:hover {\n",
              "      background-color: #E2EBFA;\n",
              "      box-shadow: 0px 1px 2px rgba(60, 64, 67, 0.3), 0px 1px 3px 1px rgba(60, 64, 67, 0.15);\n",
              "      fill: #174EA6;\n",
              "    }\n",
              "\n",
              "    [theme=dark] .colab-df-convert {\n",
              "      background-color: #3B4455;\n",
              "      fill: #D2E3FC;\n",
              "    }\n",
              "\n",
              "    [theme=dark] .colab-df-convert:hover {\n",
              "      background-color: #434B5C;\n",
              "      box-shadow: 0px 1px 3px 1px rgba(0, 0, 0, 0.15);\n",
              "      filter: drop-shadow(0px 1px 2px rgba(0, 0, 0, 0.3));\n",
              "      fill: #FFFFFF;\n",
              "    }\n",
              "  </style>\n",
              "\n",
              "      <script>\n",
              "        const buttonEl =\n",
              "          document.querySelector('#df-f90d629b-5d9d-4b0f-bc37-b1876f55a1fc button.colab-df-convert');\n",
              "        buttonEl.style.display =\n",
              "          google.colab.kernel.accessAllowed ? 'block' : 'none';\n",
              "\n",
              "        async function convertToInteractive(key) {\n",
              "          const element = document.querySelector('#df-f90d629b-5d9d-4b0f-bc37-b1876f55a1fc');\n",
              "          const dataTable =\n",
              "            await google.colab.kernel.invokeFunction('convertToInteractive',\n",
              "                                                     [key], {});\n",
              "          if (!dataTable) return;\n",
              "\n",
              "          const docLinkHtml = 'Like what you see? Visit the ' +\n",
              "            '<a target=\"_blank\" href=https://colab.research.google.com/notebooks/data_table.ipynb>data table notebook</a>'\n",
              "            + ' to learn more about interactive tables.';\n",
              "          element.innerHTML = '';\n",
              "          dataTable['output_type'] = 'display_data';\n",
              "          await google.colab.output.renderOutput(dataTable, element);\n",
              "          const docLink = document.createElement('div');\n",
              "          docLink.innerHTML = docLinkHtml;\n",
              "          element.appendChild(docLink);\n",
              "        }\n",
              "      </script>\n",
              "    </div>\n",
              "  </div>\n",
              "  "
            ]
          },
          "metadata": {},
          "execution_count": 68
        }
      ]
    },
    {
      "cell_type": "markdown",
      "source": [
        "<h3>let's explore Duplicate values</h3>"
      ],
      "metadata": {
        "id": "shGN5oOFGfOE"
      }
    },
    {
      "cell_type": "code",
      "source": [
        "df[df.duplicated(keep = 'last')]"
      ],
      "metadata": {
        "colab": {
          "base_uri": "https://localhost:8080/",
          "height": 113
        },
        "id": "4D40orczGous",
        "outputId": "15e17e52-a5de-486c-c5a2-8f7eff0808a4"
      },
      "execution_count": 69,
      "outputs": [
        {
          "output_type": "execute_result",
          "data": {
            "text/plain": [
              "Empty DataFrame\n",
              "Columns: [mov_name, mov_rating, mov_genre, released_year, released_date, imdb_usr_score, usr_votes, director_name, writer_name, star_name, country_origin, mov_budget, mov_gross, prod_company, mov_runtime]\n",
              "Index: []"
            ],
            "text/html": [
              "\n",
              "  <div id=\"df-10e04e03-4913-4293-bab6-3ce6a0504e55\">\n",
              "    <div class=\"colab-df-container\">\n",
              "      <div>\n",
              "<style scoped>\n",
              "    .dataframe tbody tr th:only-of-type {\n",
              "        vertical-align: middle;\n",
              "    }\n",
              "\n",
              "    .dataframe tbody tr th {\n",
              "        vertical-align: top;\n",
              "    }\n",
              "\n",
              "    .dataframe thead th {\n",
              "        text-align: right;\n",
              "    }\n",
              "</style>\n",
              "<table border=\"1\" class=\"dataframe\">\n",
              "  <thead>\n",
              "    <tr style=\"text-align: right;\">\n",
              "      <th></th>\n",
              "      <th>mov_name</th>\n",
              "      <th>mov_rating</th>\n",
              "      <th>mov_genre</th>\n",
              "      <th>released_year</th>\n",
              "      <th>released_date</th>\n",
              "      <th>imdb_usr_score</th>\n",
              "      <th>usr_votes</th>\n",
              "      <th>director_name</th>\n",
              "      <th>writer_name</th>\n",
              "      <th>star_name</th>\n",
              "      <th>country_origin</th>\n",
              "      <th>mov_budget</th>\n",
              "      <th>mov_gross</th>\n",
              "      <th>prod_company</th>\n",
              "      <th>mov_runtime</th>\n",
              "    </tr>\n",
              "  </thead>\n",
              "  <tbody>\n",
              "  </tbody>\n",
              "</table>\n",
              "</div>\n",
              "      <button class=\"colab-df-convert\" onclick=\"convertToInteractive('df-10e04e03-4913-4293-bab6-3ce6a0504e55')\"\n",
              "              title=\"Convert this dataframe to an interactive table.\"\n",
              "              style=\"display:none;\">\n",
              "        \n",
              "  <svg xmlns=\"http://www.w3.org/2000/svg\" height=\"24px\"viewBox=\"0 0 24 24\"\n",
              "       width=\"24px\">\n",
              "    <path d=\"M0 0h24v24H0V0z\" fill=\"none\"/>\n",
              "    <path d=\"M18.56 5.44l.94 2.06.94-2.06 2.06-.94-2.06-.94-.94-2.06-.94 2.06-2.06.94zm-11 1L8.5 8.5l.94-2.06 2.06-.94-2.06-.94L8.5 2.5l-.94 2.06-2.06.94zm10 10l.94 2.06.94-2.06 2.06-.94-2.06-.94-.94-2.06-.94 2.06-2.06.94z\"/><path d=\"M17.41 7.96l-1.37-1.37c-.4-.4-.92-.59-1.43-.59-.52 0-1.04.2-1.43.59L10.3 9.45l-7.72 7.72c-.78.78-.78 2.05 0 2.83L4 21.41c.39.39.9.59 1.41.59.51 0 1.02-.2 1.41-.59l7.78-7.78 2.81-2.81c.8-.78.8-2.07 0-2.86zM5.41 20L4 18.59l7.72-7.72 1.47 1.35L5.41 20z\"/>\n",
              "  </svg>\n",
              "      </button>\n",
              "      \n",
              "  <style>\n",
              "    .colab-df-container {\n",
              "      display:flex;\n",
              "      flex-wrap:wrap;\n",
              "      gap: 12px;\n",
              "    }\n",
              "\n",
              "    .colab-df-convert {\n",
              "      background-color: #E8F0FE;\n",
              "      border: none;\n",
              "      border-radius: 50%;\n",
              "      cursor: pointer;\n",
              "      display: none;\n",
              "      fill: #1967D2;\n",
              "      height: 32px;\n",
              "      padding: 0 0 0 0;\n",
              "      width: 32px;\n",
              "    }\n",
              "\n",
              "    .colab-df-convert:hover {\n",
              "      background-color: #E2EBFA;\n",
              "      box-shadow: 0px 1px 2px rgba(60, 64, 67, 0.3), 0px 1px 3px 1px rgba(60, 64, 67, 0.15);\n",
              "      fill: #174EA6;\n",
              "    }\n",
              "\n",
              "    [theme=dark] .colab-df-convert {\n",
              "      background-color: #3B4455;\n",
              "      fill: #D2E3FC;\n",
              "    }\n",
              "\n",
              "    [theme=dark] .colab-df-convert:hover {\n",
              "      background-color: #434B5C;\n",
              "      box-shadow: 0px 1px 3px 1px rgba(0, 0, 0, 0.15);\n",
              "      filter: drop-shadow(0px 1px 2px rgba(0, 0, 0, 0.3));\n",
              "      fill: #FFFFFF;\n",
              "    }\n",
              "  </style>\n",
              "\n",
              "      <script>\n",
              "        const buttonEl =\n",
              "          document.querySelector('#df-10e04e03-4913-4293-bab6-3ce6a0504e55 button.colab-df-convert');\n",
              "        buttonEl.style.display =\n",
              "          google.colab.kernel.accessAllowed ? 'block' : 'none';\n",
              "\n",
              "        async function convertToInteractive(key) {\n",
              "          const element = document.querySelector('#df-10e04e03-4913-4293-bab6-3ce6a0504e55');\n",
              "          const dataTable =\n",
              "            await google.colab.kernel.invokeFunction('convertToInteractive',\n",
              "                                                     [key], {});\n",
              "          if (!dataTable) return;\n",
              "\n",
              "          const docLinkHtml = 'Like what you see? Visit the ' +\n",
              "            '<a target=\"_blank\" href=https://colab.research.google.com/notebooks/data_table.ipynb>data table notebook</a>'\n",
              "            + ' to learn more about interactive tables.';\n",
              "          element.innerHTML = '';\n",
              "          dataTable['output_type'] = 'display_data';\n",
              "          await google.colab.output.renderOutput(dataTable, element);\n",
              "          const docLink = document.createElement('div');\n",
              "          docLink.innerHTML = docLinkHtml;\n",
              "          element.appendChild(docLink);\n",
              "        }\n",
              "      </script>\n",
              "    </div>\n",
              "  </div>\n",
              "  "
            ]
          },
          "metadata": {},
          "execution_count": 69
        }
      ]
    },
    {
      "cell_type": "markdown",
      "source": [
        "ther is no duplicated data "
      ],
      "metadata": {
        "id": "Q6otoJCKMNQ2"
      }
    },
    {
      "cell_type": "markdown",
      "source": [
        "<h3> a- Let's Explore Numerical Data  </h3>\n",
        "\n",
        "Numerica columns : imdb_usr_score , usr_votes,mov_budget , mov_gross , mov_runtime\n",
        "\n"
      ],
      "metadata": {
        "id": "HTaCeVXeMP4N"
      }
    },
    {
      "cell_type": "code",
      "source": [
        "fg = plt.figure(figsize=(15,12))\n",
        "#plot imdb_usr_score\n",
        "plt.subplot(3,2,1)\n",
        "sns.distplot(df['imdb_usr_score'])\n",
        "\n",
        "#plot usr_votes\n",
        "plt.subplot(3,2,2)\n",
        "sns.distplot(df['usr_votes'])\n",
        "\n",
        "#plot mov_budget\n",
        "plt.subplot(3,2,3)\n",
        "sns.distplot(df['mov_budget'])\n",
        "\n",
        "#plot mov_gross\n",
        "plt.subplot(3,2,4)\n",
        "sns.distplot(df['mov_gross'])\n",
        "\n",
        "#plot mov_runtime\n",
        "plt.subplot(3,2,5)\n",
        "sns.distplot(df['mov_runtime'])\n",
        "\n",
        "#plot released_year\n",
        "plt.subplot(3,2,6)\n",
        "sns.distplot(df['released_year'])"
      ],
      "metadata": {
        "colab": {
          "base_uri": "https://localhost:8080/",
          "height": 757
        },
        "id": "n5IzzFodMYms",
        "outputId": "0fb33c0a-b8da-4481-e93c-686a80fb6728"
      },
      "execution_count": 70,
      "outputs": [
        {
          "output_type": "stream",
          "name": "stderr",
          "text": [
            "/usr/local/lib/python3.7/dist-packages/seaborn/distributions.py:2619: FutureWarning: `distplot` is a deprecated function and will be removed in a future version. Please adapt your code to use either `displot` (a figure-level function with similar flexibility) or `histplot` (an axes-level function for histograms).\n",
            "  warnings.warn(msg, FutureWarning)\n",
            "/usr/local/lib/python3.7/dist-packages/seaborn/distributions.py:2619: FutureWarning: `distplot` is a deprecated function and will be removed in a future version. Please adapt your code to use either `displot` (a figure-level function with similar flexibility) or `histplot` (an axes-level function for histograms).\n",
            "  warnings.warn(msg, FutureWarning)\n",
            "/usr/local/lib/python3.7/dist-packages/seaborn/distributions.py:2619: FutureWarning: `distplot` is a deprecated function and will be removed in a future version. Please adapt your code to use either `displot` (a figure-level function with similar flexibility) or `histplot` (an axes-level function for histograms).\n",
            "  warnings.warn(msg, FutureWarning)\n",
            "/usr/local/lib/python3.7/dist-packages/seaborn/distributions.py:2619: FutureWarning: `distplot` is a deprecated function and will be removed in a future version. Please adapt your code to use either `displot` (a figure-level function with similar flexibility) or `histplot` (an axes-level function for histograms).\n",
            "  warnings.warn(msg, FutureWarning)\n",
            "/usr/local/lib/python3.7/dist-packages/seaborn/distributions.py:2619: FutureWarning: `distplot` is a deprecated function and will be removed in a future version. Please adapt your code to use either `displot` (a figure-level function with similar flexibility) or `histplot` (an axes-level function for histograms).\n",
            "  warnings.warn(msg, FutureWarning)\n",
            "/usr/local/lib/python3.7/dist-packages/seaborn/distributions.py:2619: FutureWarning: `distplot` is a deprecated function and will be removed in a future version. Please adapt your code to use either `displot` (a figure-level function with similar flexibility) or `histplot` (an axes-level function for histograms).\n",
            "  warnings.warn(msg, FutureWarning)\n"
          ]
        },
        {
          "output_type": "execute_result",
          "data": {
            "text/plain": [
              "<matplotlib.axes._subplots.AxesSubplot at 0x7f7e4b715510>"
            ]
          },
          "metadata": {},
          "execution_count": 70
        },
        {
          "output_type": "display_data",
          "data": {
            "text/plain": [
              "<Figure size 1080x864 with 6 Axes>"
            ],
            "image/png": "[encoded data removed]"
          },
          "metadata": {
            "needs_background": "light"
          }
        }
      ]
    },
    {
      "cell_type": "markdown",
      "source": [
        "mov_runtime , imbd_user_score ===> has normal distribution \n",
        "\n",
        "mov_gross , mov_budget , user_votes ==> need to clean  and have (Right Skewed)\n",
        "\n",
        "released_year has (uniform) distribution"
      ],
      "metadata": {
        "id": "QJOfG5BYhOuy"
      }
    },
    {
      "cell_type": "markdown",
      "source": [
        "<h2>let's show correlation between numeric columns with mov_gross  using scatter plot<h2>"
      ],
      "metadata": {
        "id": "TSJnI0ANhecz"
      }
    },
    {
      "cell_type": "code",
      "source": [
        "fg = plt.figure(figsize=(15,12))\n",
        "#plot imdb_usr_score\n",
        "plt.subplot(3,2,1)\n",
        "sns.regplot(x = 'imdb_usr_score' , y='mov_gross' , data=df , \n",
        "            scatter_kws = {'color':'red'} , line_kws={'color' : 'blue'})\n",
        "\n",
        "#plot usr_votes\n",
        "plt.subplot(3,2,2)\n",
        "sns.regplot(x='usr_votes' , y='mov_gross' , data= df , \n",
        "            scatter_kws={'color' : 'blue'} , line_kws={'color' : 'red'})\n",
        "\n",
        "#plot mov_budget\n",
        "plt.subplot(3,2,3)\n",
        "sns.regplot(x='mov_budget' , y='mov_gross' , data= df , \n",
        "            scatter_kws={'color' : 'green'} , line_kws={'color' : 'red'})\n",
        "\n",
        "#plot mov_runtime\n",
        "plt.subplot(3,2,4)\n",
        "sns.regplot(x='mov_runtime' , y='mov_gross' , data= df , \n",
        "            scatter_kws={'color' : 'yellow'} , line_kws={'color' : 'red'})\n",
        "\n",
        "#plot released_year\n",
        "plt.subplot(3,2,5)\n",
        "sns.regplot(x='released_year' , y='mov_gross' , data= df , \n",
        "            scatter_kws={'color' : 'black'} , line_kws={'color' : 'yellow'})\n"
      ],
      "metadata": {
        "colab": {
          "base_uri": "https://localhost:8080/",
          "height": 533
        },
        "id": "-XV1xaorhv5a",
        "outputId": "9d6a254e-e49f-428d-b061-f02c9c5356b0"
      },
      "execution_count": 71,
      "outputs": [
        {
          "output_type": "execute_result",
          "data": {
            "text/plain": [
              "<matplotlib.axes._subplots.AxesSubplot at 0x7f7e4b46d450>"
            ]
          },
          "metadata": {},
          "execution_count": 71
        },
        {
          "output_type": "display_data",
          "data": {
            "text/plain": [
              "<Figure size 1080x864 with 5 Axes>"
            ],
            "image/png": "[encoded data removed]"
          },
          "metadata": {
            "needs_background": "light"
          }
        }
      ]
    },
    {
      "cell_type": "markdown",
      "source": [
        "there is : \n",
        "=========\n",
        "\n",
        "**strong positive correlation:** (usr_votes , mov_gross) , (mov_budget , mov_gross) \n",
        "\n",
        "**weak positive correlation:** (mov_runtime , mov_gross)\n",
        "\n",
        "**NO correlation:**  (imdb_user_score , mov_gross) , (released_year , mov_gross)\n"
      ],
      "metadata": {
        "id": "-jKoBBdTkcVr"
      }
    },
    {
      "cell_type": "markdown",
      "source": [
        "<h4>let's check values of correlation</h4>"
      ],
      "metadata": {
        "id": "MQqfEapAlVrh"
      }
    },
    {
      "cell_type": "code",
      "source": [
        "fg = plt.figure(figsize=(12,6))\n",
        "sns.heatmap(df.corr(),annot=True)"
      ],
      "metadata": {
        "colab": {
          "base_uri": "https://localhost:8080/",
          "height": 356
        },
        "id": "mdMK6o9Jk-7C",
        "outputId": "60978a8f-3286-4846-a453-fdd420aa7621"
      },
      "execution_count": 72,
      "outputs": [
        {
          "output_type": "execute_result",
          "data": {
            "text/plain": [
              "<matplotlib.axes._subplots.AxesSubplot at 0x7f7e4e489fd0>"
            ]
          },
          "metadata": {},
          "execution_count": 72
        },
        {
          "output_type": "display_data",
          "data": {
            "text/plain": [
              "<Figure size 864x432 with 2 Axes>"
            ],
            "image/png": "[encoded data removed]"
          },
          "metadata": {
            "needs_background": "light"
          }
        }
      ]
    },
    {
      "cell_type": "code",
      "source": [
        "corr = df.corr()['mov_gross'].sort_values(ascending = False)\n",
        "corr"
      ],
      "metadata": {
        "colab": {
          "base_uri": "https://localhost:8080/"
        },
        "id": "y9iOzg2glYvD",
        "outputId": "65d65670-a3be-4885-9dcf-cdafd224cbfd"
      },
      "execution_count": 73,
      "outputs": [
        {
          "output_type": "execute_result",
          "data": {
            "text/plain": [
              "mov_gross         1.000000\n",
              "mov_budget        0.740395\n",
              "usr_votes         0.630757\n",
              "released_year     0.257486\n",
              "mov_runtime       0.245216\n",
              "imdb_usr_score    0.186258\n",
              "Name: mov_gross, dtype: float64"
            ]
          },
          "metadata": {},
          "execution_count": 73
        }
      ]
    },
    {
      "cell_type": "markdown",
      "source": [
        "<h3> b- Let's Explore Categorical Data </h3> \n",
        "\n",
        "**Categorical columns :** mov_name , mov_rating , mov_genre, director_name , star_name , writer_name ,country_origin ,prod_company"
      ],
      "metadata": {
        "id": "3tHVeFWjmDsg"
      }
    },
    {
      "cell_type": "code",
      "source": [
        "categorical_data = df[['mov_name' , 'mov_rating' , 'mov_genre', 'director_name' , 'star_name' , \n",
        "                      'writer_name' ,'country_origin' ,'prod_company' ,'released_date']]\n",
        "categorical_data\n"
      ],
      "metadata": {
        "colab": {
          "base_uri": "https://localhost:8080/",
          "height": 800
        },
        "id": "MtXfaRnUQZvP",
        "outputId": "e1a8c495-65aa-4af0-e90f-788d3e7de1af"
      },
      "execution_count": 74,
      "outputs": [
        {
          "output_type": "execute_result",
          "data": {
            "text/plain": [
              "                                            mov_name mov_rating  mov_genre  \\\n",
              "0                                        The Shining          R      Drama   \n",
              "1                                    The Blue Lagoon          R  Adventure   \n",
              "2     Star Wars: Episode V - The Empire Strikes Back         PG     Action   \n",
              "3                                          Airplane!         PG     Comedy   \n",
              "4                                         Caddyshack          R     Comedy   \n",
              "...                                              ...        ...        ...   \n",
              "7663                                    More to Life        NaN      Drama   \n",
              "7664                                     Dream Round        NaN     Comedy   \n",
              "7665                                   Saving Mbango        NaN      Drama   \n",
              "7666                                    It's Just Us        NaN      Drama   \n",
              "7667                                       Tee em el        NaN     Horror   \n",
              "\n",
              "        director_name         star_name              writer_name  \\\n",
              "0     Stanley Kubrick    Jack Nicholson             Stephen King   \n",
              "1      Randal Kleiser    Brooke Shields  Henry De Vere Stacpoole   \n",
              "2      Irvin Kershner       Mark Hamill           Leigh Brackett   \n",
              "3        Jim Abrahams       Robert Hays             Jim Abrahams   \n",
              "4        Harold Ramis       Chevy Chase       Brian Doyle-Murray   \n",
              "...               ...               ...                      ...   \n",
              "7663    Joseph Ebanks      Shannon Bond            Joseph Ebanks   \n",
              "7664     Dusty Dukatz  Michael Saquella              Lisa Huston   \n",
              "7665     Nkanya Nkwai      Onyama Laura             Lynno Lovert   \n",
              "7666    James Randall     Christina Roz            James Randall   \n",
              "7667     Pereko Mosia  Siyabonga Mabaso             Pereko Mosia   \n",
              "\n",
              "      country_origin               prod_company  \\\n",
              "0     United Kingdom               Warner Bros.   \n",
              "1      United States          Columbia Pictures   \n",
              "2      United States                  Lucasfilm   \n",
              "3      United States         Paramount Pictures   \n",
              "4      United States             Orion Pictures   \n",
              "...              ...                        ...   \n",
              "7663   United States                        NaN   \n",
              "7664   United States  Cactus Blue Entertainment   \n",
              "7665   United States           Embi Productions   \n",
              "7666   United States                        NaN   \n",
              "7667    South Africa                PK 65 Films   \n",
              "\n",
              "                         released_date  \n",
              "0        June 13, 1980 (United States)  \n",
              "1         July 2, 1980 (United States)  \n",
              "2        June 20, 1980 (United States)  \n",
              "3         July 2, 1980 (United States)  \n",
              "4        July 25, 1980 (United States)  \n",
              "...                                ...  \n",
              "7663  October 23, 2020 (United States)  \n",
              "7664  February 7, 2020 (United States)  \n",
              "7665         April 27, 2020 (Cameroon)  \n",
              "7666   October 1, 2020 (United States)  \n",
              "7667   August 19, 2020 (United States)  \n",
              "\n",
              "[7668 rows x 9 columns]"
            ],
            "text/html": [
              "\n",
              "  <div id=\"df-479e185b-67b4-4783-9310-2c3e1d3b5e53\">\n",
              "    <div class=\"colab-df-container\">\n",
              "      <div>\n",
              "<style scoped>\n",
              "    .dataframe tbody tr th:only-of-type {\n",
              "        vertical-align: middle;\n",
              "    }\n",
              "\n",
              "    .dataframe tbody tr th {\n",
              "        vertical-align: top;\n",
              "    }\n",
              "\n",
              "    .dataframe thead th {\n",
              "        text-align: right;\n",
              "    }\n",
              "</style>\n",
              "<table border=\"1\" class=\"dataframe\">\n",
              "  <thead>\n",
              "    <tr style=\"text-align: right;\">\n",
              "      <th></th>\n",
              "      <th>mov_name</th>\n",
              "      <th>mov_rating</th>\n",
              "      <th>mov_genre</th>\n",
              "      <th>director_name</th>\n",
              "      <th>star_name</th>\n",
              "      <th>writer_name</th>\n",
              "      <th>country_origin</th>\n",
              "      <th>prod_company</th>\n",
              "      <th>released_date</th>\n",
              "    </tr>\n",
              "  </thead>\n",
              "  <tbody>\n",
              "    <tr>\n",
              "      <th>0</th>\n",
              "      <td>The Shining</td>\n",
              "      <td>R</td>\n",
              "      <td>Drama</td>\n",
              "      <td>Stanley Kubrick</td>\n",
              "      <td>Jack Nicholson</td>\n",
              "      <td>Stephen King</td>\n",
              "      <td>United Kingdom</td>\n",
              "      <td>Warner Bros.</td>\n",
              "      <td>June 13, 1980 (United States)</td>\n",
              "    </tr>\n",
              "    <tr>\n",
              "      <th>1</th>\n",
              "      <td>The Blue Lagoon</td>\n",
              "      <td>R</td>\n",
              "      <td>Adventure</td>\n",
              "      <td>Randal Kleiser</td>\n",
              "      <td>Brooke Shields</td>\n",
              "      <td>Henry De Vere Stacpoole</td>\n",
              "      <td>United States</td>\n",
              "      <td>Columbia Pictures</td>\n",
              "      <td>July 2, 1980 (United States)</td>\n",
              "    </tr>\n",
              "    <tr>\n",
              "      <th>2</th>\n",
              "      <td>Star Wars: Episode V - The Empire Strikes Back</td>\n",
              "      <td>PG</td>\n",
              "      <td>Action</td>\n",
              "      <td>Irvin Kershner</td>\n",
              "      <td>Mark Hamill</td>\n",
              "      <td>Leigh Brackett</td>\n",
              "      <td>United States</td>\n",
              "      <td>Lucasfilm</td>\n",
              "      <td>June 20, 1980 (United States)</td>\n",
              "    </tr>\n",
              "    <tr>\n",
              "      <th>3</th>\n",
              "      <td>Airplane!</td>\n",
              "      <td>PG</td>\n",
              "      <td>Comedy</td>\n",
              "      <td>Jim Abrahams</td>\n",
              "      <td>Robert Hays</td>\n",
              "      <td>Jim Abrahams</td>\n",
              "      <td>United States</td>\n",
              "      <td>Paramount Pictures</td>\n",
              "      <td>July 2, 1980 (United States)</td>\n",
              "    </tr>\n",
              "    <tr>\n",
              "      <th>4</th>\n",
              "      <td>Caddyshack</td>\n",
              "      <td>R</td>\n",
              "      <td>Comedy</td>\n",
              "      <td>Harold Ramis</td>\n",
              "      <td>Chevy Chase</td>\n",
              "      <td>Brian Doyle-Murray</td>\n",
              "      <td>United States</td>\n",
              "      <td>Orion Pictures</td>\n",
              "      <td>July 25, 1980 (United States)</td>\n",
              "    </tr>\n",
              "    <tr>\n",
              "      <th>...</th>\n",
              "      <td>...</td>\n",
              "      <td>...</td>\n",
              "      <td>...</td>\n",
              "      <td>...</td>\n",
              "      <td>...</td>\n",
              "      <td>...</td>\n",
              "      <td>...</td>\n",
              "      <td>...</td>\n",
              "      <td>...</td>\n",
              "    </tr>\n",
              "    <tr>\n",
              "      <th>7663</th>\n",
              "      <td>More to Life</td>\n",
              "      <td>NaN</td>\n",
              "      <td>Drama</td>\n",
              "      <td>Joseph Ebanks</td>\n",
              "      <td>Shannon Bond</td>\n",
              "      <td>Joseph Ebanks</td>\n",
              "      <td>United States</td>\n",
              "      <td>NaN</td>\n",
              "      <td>October 23, 2020 (United States)</td>\n",
              "    </tr>\n",
              "    <tr>\n",
              "      <th>7664</th>\n",
              "      <td>Dream Round</td>\n",
              "      <td>NaN</td>\n",
              "      <td>Comedy</td>\n",
              "      <td>Dusty Dukatz</td>\n",
              "      <td>Michael Saquella</td>\n",
              "      <td>Lisa Huston</td>\n",
              "      <td>United States</td>\n",
              "      <td>Cactus Blue Entertainment</td>\n",
              "      <td>February 7, 2020 (United States)</td>\n",
              "    </tr>\n",
              "    <tr>\n",
              "      <th>7665</th>\n",
              "      <td>Saving Mbango</td>\n",
              "      <td>NaN</td>\n",
              "      <td>Drama</td>\n",
              "      <td>Nkanya Nkwai</td>\n",
              "      <td>Onyama Laura</td>\n",
              "      <td>Lynno Lovert</td>\n",
              "      <td>United States</td>\n",
              "      <td>Embi Productions</td>\n",
              "      <td>April 27, 2020 (Cameroon)</td>\n",
              "    </tr>\n",
              "    <tr>\n",
              "      <th>7666</th>\n",
              "      <td>It's Just Us</td>\n",
              "      <td>NaN</td>\n",
              "      <td>Drama</td>\n",
              "      <td>James Randall</td>\n",
              "      <td>Christina Roz</td>\n",
              "      <td>James Randall</td>\n",
              "      <td>United States</td>\n",
              "      <td>NaN</td>\n",
              "      <td>October 1, 2020 (United States)</td>\n",
              "    </tr>\n",
              "    <tr>\n",
              "      <th>7667</th>\n",
              "      <td>Tee em el</td>\n",
              "      <td>NaN</td>\n",
              "      <td>Horror</td>\n",
              "      <td>Pereko Mosia</td>\n",
              "      <td>Siyabonga Mabaso</td>\n",
              "      <td>Pereko Mosia</td>\n",
              "      <td>South Africa</td>\n",
              "      <td>PK 65 Films</td>\n",
              "      <td>August 19, 2020 (United States)</td>\n",
              "    </tr>\n",
              "  </tbody>\n",
              "</table>\n",
              "<p>7668 rows × 9 columns</p>\n",
              "</div>\n",
              "      <button class=\"colab-df-convert\" onclick=\"convertToInteractive('df-479e185b-67b4-4783-9310-2c3e1d3b5e53')\"\n",
              "              title=\"Convert this dataframe to an interactive table.\"\n",
              "              style=\"display:none;\">\n",
              "        \n",
              "  <svg xmlns=\"http://www.w3.org/2000/svg\" height=\"24px\"viewBox=\"0 0 24 24\"\n",
              "       width=\"24px\">\n",
              "    <path d=\"M0 0h24v24H0V0z\" fill=\"none\"/>\n",
              "    <path d=\"M18.56 5.44l.94 2.06.94-2.06 2.06-.94-2.06-.94-.94-2.06-.94 2.06-2.06.94zm-11 1L8.5 8.5l.94-2.06 2.06-.94-2.06-.94L8.5 2.5l-.94 2.06-2.06.94zm10 10l.94 2.06.94-2.06 2.06-.94-2.06-.94-.94-2.06-.94 2.06-2.06.94z\"/><path d=\"M17.41 7.96l-1.37-1.37c-.4-.4-.92-.59-1.43-.59-.52 0-1.04.2-1.43.59L10.3 9.45l-7.72 7.72c-.78.78-.78 2.05 0 2.83L4 21.41c.39.39.9.59 1.41.59.51 0 1.02-.2 1.41-.59l7.78-7.78 2.81-2.81c.8-.78.8-2.07 0-2.86zM5.41 20L4 18.59l7.72-7.72 1.47 1.35L5.41 20z\"/>\n",
              "  </svg>\n",
              "      </button>\n",
              "      \n",
              "  <style>\n",
              "    .colab-df-container {\n",
              "      display:flex;\n",
              "      flex-wrap:wrap;\n",
              "      gap: 12px;\n",
              "    }\n",
              "\n",
              "    .colab-df-convert {\n",
              "      background-color: #E8F0FE;\n",
              "      border: none;\n",
              "      border-radius: 50%;\n",
              "      cursor: pointer;\n",
              "      display: none;\n",
              "      fill: #1967D2;\n",
              "      height: 32px;\n",
              "      padding: 0 0 0 0;\n",
              "      width: 32px;\n",
              "    }\n",
              "\n",
              "    .colab-df-convert:hover {\n",
              "      background-color: #E2EBFA;\n",
              "      box-shadow: 0px 1px 2px rgba(60, 64, 67, 0.3), 0px 1px 3px 1px rgba(60, 64, 67, 0.15);\n",
              "      fill: #174EA6;\n",
              "    }\n",
              "\n",
              "    [theme=dark] .colab-df-convert {\n",
              "      background-color: #3B4455;\n",
              "      fill: #D2E3FC;\n",
              "    }\n",
              "\n",
              "    [theme=dark] .colab-df-convert:hover {\n",
              "      background-color: #434B5C;\n",
              "      box-shadow: 0px 1px 3px 1px rgba(0, 0, 0, 0.15);\n",
              "      filter: drop-shadow(0px 1px 2px rgba(0, 0, 0, 0.3));\n",
              "      fill: #FFFFFF;\n",
              "    }\n",
              "  </style>\n",
              "\n",
              "      <script>\n",
              "        const buttonEl =\n",
              "          document.querySelector('#df-479e185b-67b4-4783-9310-2c3e1d3b5e53 button.colab-df-convert');\n",
              "        buttonEl.style.display =\n",
              "          google.colab.kernel.accessAllowed ? 'block' : 'none';\n",
              "\n",
              "        async function convertToInteractive(key) {\n",
              "          const element = document.querySelector('#df-479e185b-67b4-4783-9310-2c3e1d3b5e53');\n",
              "          const dataTable =\n",
              "            await google.colab.kernel.invokeFunction('convertToInteractive',\n",
              "                                                     [key], {});\n",
              "          if (!dataTable) return;\n",
              "\n",
              "          const docLinkHtml = 'Like what you see? Visit the ' +\n",
              "            '<a target=\"_blank\" href=https://colab.research.google.com/notebooks/data_table.ipynb>data table notebook</a>'\n",
              "            + ' to learn more about interactive tables.';\n",
              "          element.innerHTML = '';\n",
              "          dataTable['output_type'] = 'display_data';\n",
              "          await google.colab.output.renderOutput(dataTable, element);\n",
              "          const docLink = document.createElement('div');\n",
              "          docLink.innerHTML = docLinkHtml;\n",
              "          element.appendChild(docLink);\n",
              "        }\n",
              "      </script>\n",
              "    </div>\n",
              "  </div>\n",
              "  "
            ]
          },
          "metadata": {},
          "execution_count": 74
        }
      ]
    },
    {
      "cell_type": "markdown",
      "source": [
        "released_date  ==> has name of the country release movie beside date"
      ],
      "metadata": {
        "id": "qq6-mer6agK6"
      }
    },
    {
      "cell_type": "markdown",
      "source": [
        "explore missing data on Categorical Data "
      ],
      "metadata": {
        "id": "WFJjm6LdjsYM"
      }
    },
    {
      "cell_type": "code",
      "source": [
        "missing_value(categorical_data)"
      ],
      "metadata": {
        "colab": {
          "base_uri": "https://localhost:8080/",
          "height": 332
        },
        "id": "bGlbFGD5iXXh",
        "outputId": "b233e401-d7a4-4163-c0a8-ce45bf804091"
      },
      "execution_count": 75,
      "outputs": [
        {
          "output_type": "execute_result",
          "data": {
            "text/plain": [
              "                total_miss  percentage_miss\n",
              "mov_rating              77             1.00\n",
              "prod_company            17             0.22\n",
              "writer_name              3             0.04\n",
              "country_origin           3             0.04\n",
              "released_date            2             0.03\n",
              "star_name                1             0.01\n",
              "mov_name                 0             0.00\n",
              "mov_genre                0             0.00\n",
              "director_name            0             0.00"
            ],
            "text/html": [
              "\n",
              "  <div id=\"df-fc16a39f-a999-467b-9984-11c349e67c2e\">\n",
              "    <div class=\"colab-df-container\">\n",
              "      <div>\n",
              "<style scoped>\n",
              "    .dataframe tbody tr th:only-of-type {\n",
              "        vertical-align: middle;\n",
              "    }\n",
              "\n",
              "    .dataframe tbody tr th {\n",
              "        vertical-align: top;\n",
              "    }\n",
              "\n",
              "    .dataframe thead th {\n",
              "        text-align: right;\n",
              "    }\n",
              "</style>\n",
              "<table border=\"1\" class=\"dataframe\">\n",
              "  <thead>\n",
              "    <tr style=\"text-align: right;\">\n",
              "      <th></th>\n",
              "      <th>total_miss</th>\n",
              "      <th>percentage_miss</th>\n",
              "    </tr>\n",
              "  </thead>\n",
              "  <tbody>\n",
              "    <tr>\n",
              "      <th>mov_rating</th>\n",
              "      <td>77</td>\n",
              "      <td>1.00</td>\n",
              "    </tr>\n",
              "    <tr>\n",
              "      <th>prod_company</th>\n",
              "      <td>17</td>\n",
              "      <td>0.22</td>\n",
              "    </tr>\n",
              "    <tr>\n",
              "      <th>writer_name</th>\n",
              "      <td>3</td>\n",
              "      <td>0.04</td>\n",
              "    </tr>\n",
              "    <tr>\n",
              "      <th>country_origin</th>\n",
              "      <td>3</td>\n",
              "      <td>0.04</td>\n",
              "    </tr>\n",
              "    <tr>\n",
              "      <th>released_date</th>\n",
              "      <td>2</td>\n",
              "      <td>0.03</td>\n",
              "    </tr>\n",
              "    <tr>\n",
              "      <th>star_name</th>\n",
              "      <td>1</td>\n",
              "      <td>0.01</td>\n",
              "    </tr>\n",
              "    <tr>\n",
              "      <th>mov_name</th>\n",
              "      <td>0</td>\n",
              "      <td>0.00</td>\n",
              "    </tr>\n",
              "    <tr>\n",
              "      <th>mov_genre</th>\n",
              "      <td>0</td>\n",
              "      <td>0.00</td>\n",
              "    </tr>\n",
              "    <tr>\n",
              "      <th>director_name</th>\n",
              "      <td>0</td>\n",
              "      <td>0.00</td>\n",
              "    </tr>\n",
              "  </tbody>\n",
              "</table>\n",
              "</div>\n",
              "      <button class=\"colab-df-convert\" onclick=\"convertToInteractive('df-fc16a39f-a999-467b-9984-11c349e67c2e')\"\n",
              "              title=\"Convert this dataframe to an interactive table.\"\n",
              "              style=\"display:none;\">\n",
              "        \n",
              "  <svg xmlns=\"http://www.w3.org/2000/svg\" height=\"24px\"viewBox=\"0 0 24 24\"\n",
              "       width=\"24px\">\n",
              "    <path d=\"M0 0h24v24H0V0z\" fill=\"none\"/>\n",
              "    <path d=\"M18.56 5.44l.94 2.06.94-2.06 2.06-.94-2.06-.94-.94-2.06-.94 2.06-2.06.94zm-11 1L8.5 8.5l.94-2.06 2.06-.94-2.06-.94L8.5 2.5l-.94 2.06-2.06.94zm10 10l.94 2.06.94-2.06 2.06-.94-2.06-.94-.94-2.06-.94 2.06-2.06.94z\"/><path d=\"M17.41 7.96l-1.37-1.37c-.4-.4-.92-.59-1.43-.59-.52 0-1.04.2-1.43.59L10.3 9.45l-7.72 7.72c-.78.78-.78 2.05 0 2.83L4 21.41c.39.39.9.59 1.41.59.51 0 1.02-.2 1.41-.59l7.78-7.78 2.81-2.81c.8-.78.8-2.07 0-2.86zM5.41 20L4 18.59l7.72-7.72 1.47 1.35L5.41 20z\"/>\n",
              "  </svg>\n",
              "      </button>\n",
              "      \n",
              "  <style>\n",
              "    .colab-df-container {\n",
              "      display:flex;\n",
              "      flex-wrap:wrap;\n",
              "      gap: 12px;\n",
              "    }\n",
              "\n",
              "    .colab-df-convert {\n",
              "      background-color: #E8F0FE;\n",
              "      border: none;\n",
              "      border-radius: 50%;\n",
              "      cursor: pointer;\n",
              "      display: none;\n",
              "      fill: #1967D2;\n",
              "      height: 32px;\n",
              "      padding: 0 0 0 0;\n",
              "      width: 32px;\n",
              "    }\n",
              "\n",
              "    .colab-df-convert:hover {\n",
              "      background-color: #E2EBFA;\n",
              "      box-shadow: 0px 1px 2px rgba(60, 64, 67, 0.3), 0px 1px 3px 1px rgba(60, 64, 67, 0.15);\n",
              "      fill: #174EA6;\n",
              "    }\n",
              "\n",
              "    [theme=dark] .colab-df-convert {\n",
              "      background-color: #3B4455;\n",
              "      fill: #D2E3FC;\n",
              "    }\n",
              "\n",
              "    [theme=dark] .colab-df-convert:hover {\n",
              "      background-color: #434B5C;\n",
              "      box-shadow: 0px 1px 3px 1px rgba(0, 0, 0, 0.15);\n",
              "      filter: drop-shadow(0px 1px 2px rgba(0, 0, 0, 0.3));\n",
              "      fill: #FFFFFF;\n",
              "    }\n",
              "  </style>\n",
              "\n",
              "      <script>\n",
              "        const buttonEl =\n",
              "          document.querySelector('#df-fc16a39f-a999-467b-9984-11c349e67c2e button.colab-df-convert');\n",
              "        buttonEl.style.display =\n",
              "          google.colab.kernel.accessAllowed ? 'block' : 'none';\n",
              "\n",
              "        async function convertToInteractive(key) {\n",
              "          const element = document.querySelector('#df-fc16a39f-a999-467b-9984-11c349e67c2e');\n",
              "          const dataTable =\n",
              "            await google.colab.kernel.invokeFunction('convertToInteractive',\n",
              "                                                     [key], {});\n",
              "          if (!dataTable) return;\n",
              "\n",
              "          const docLinkHtml = 'Like what you see? Visit the ' +\n",
              "            '<a target=\"_blank\" href=https://colab.research.google.com/notebooks/data_table.ipynb>data table notebook</a>'\n",
              "            + ' to learn more about interactive tables.';\n",
              "          element.innerHTML = '';\n",
              "          dataTable['output_type'] = 'display_data';\n",
              "          await google.colab.output.renderOutput(dataTable, element);\n",
              "          const docLink = document.createElement('div');\n",
              "          docLink.innerHTML = docLinkHtml;\n",
              "          element.appendChild(docLink);\n",
              "        }\n",
              "      </script>\n",
              "    </div>\n",
              "  </div>\n",
              "  "
            ]
          },
          "metadata": {},
          "execution_count": 75
        }
      ]
    },
    {
      "cell_type": "code",
      "source": [
        "fg = plt.figure(figsize=(20,30))\n",
        "#plot mov_rating\n",
        "plt.subplot(4,1,1)\n",
        "sns.barplot( categorical_data['mov_rating'].value_counts().index,\n",
        "            categorical_data['mov_rating'].value_counts()).set_title('Movie Rating')\n",
        "\n",
        "#plot mov_genre\n",
        "plt.subplot(4,1,2)\n",
        "sns.barplot(categorical_data['mov_genre'].value_counts().index ,\n",
        "            categorical_data['mov_genre'].value_counts()).set_title('Type of Movie')"
      ],
      "metadata": {
        "colab": {
          "base_uri": "https://localhost:8080/",
          "height": 565
        },
        "id": "vh-iEhUOowwR",
        "outputId": "deeb0dd8-eff1-4b5e-adda-9013fb2bfd93"
      },
      "execution_count": 76,
      "outputs": [
        {
          "output_type": "stream",
          "name": "stderr",
          "text": [
            "/usr/local/lib/python3.7/dist-packages/seaborn/_decorators.py:43: FutureWarning: Pass the following variables as keyword args: x, y. From version 0.12, the only valid positional argument will be `data`, and passing other arguments without an explicit keyword will result in an error or misinterpretation.\n",
            "  FutureWarning\n",
            "/usr/local/lib/python3.7/dist-packages/seaborn/_decorators.py:43: FutureWarning: Pass the following variables as keyword args: x, y. From version 0.12, the only valid positional argument will be `data`, and passing other arguments without an explicit keyword will result in an error or misinterpretation.\n",
            "  FutureWarning\n"
          ]
        },
        {
          "output_type": "execute_result",
          "data": {
            "text/plain": [
              "Text(0.5, 1.0, 'Type of Movie')"
            ]
          },
          "metadata": {},
          "execution_count": 76
        },
        {
          "output_type": "display_data",
          "data": {
            "text/plain": [
              "<Figure size 1440x2160 with 2 Axes>"
            ],
            "image/png": "[encoded data removed]"
          },
          "metadata": {
            "needs_background": "light"
          }
        }
      ]
    },
    {
      "cell_type": "markdown",
      "source": [
        "<h1> 3- Cleaning Data </h1>\n",
        "\n"
      ],
      "metadata": {
        "id": "wuSmYMh8h3MS"
      }
    },
    {
      "cell_type": "markdown",
      "source": [
        " <h3>1- Missing Data </h3>"
      ],
      "metadata": {
        "id": "eo_HKpcYiIUZ"
      }
    },
    {
      "cell_type": "code",
      "source": [
        "missing_value(df)"
      ],
      "metadata": {
        "colab": {
          "base_uri": "https://localhost:8080/",
          "height": 520
        },
        "id": "E4kyRGc9sW1e",
        "outputId": "fd069cf2-728b-4c57-c6fd-3afbfa34d7d9"
      },
      "execution_count": 77,
      "outputs": [
        {
          "output_type": "execute_result",
          "data": {
            "text/plain": [
              "                total_miss  percentage_miss\n",
              "mov_budget            2171            28.31\n",
              "mov_gross              189             2.46\n",
              "mov_rating              77             1.00\n",
              "prod_company            17             0.22\n",
              "mov_runtime              4             0.05\n",
              "imdb_usr_score           3             0.04\n",
              "usr_votes                3             0.04\n",
              "writer_name              3             0.04\n",
              "country_origin           3             0.04\n",
              "released_date            2             0.03\n",
              "star_name                1             0.01\n",
              "mov_name                 0             0.00\n",
              "mov_genre                0             0.00\n",
              "released_year            0             0.00\n",
              "director_name            0             0.00"
            ],
            "text/html": [
              "\n",
              "  <div id=\"df-5aa6e67f-8dc8-4496-b854-4d292b9dd2fe\">\n",
              "    <div class=\"colab-df-container\">\n",
              "      <div>\n",
              "<style scoped>\n",
              "    .dataframe tbody tr th:only-of-type {\n",
              "        vertical-align: middle;\n",
              "    }\n",
              "\n",
              "    .dataframe tbody tr th {\n",
              "        vertical-align: top;\n",
              "    }\n",
              "\n",
              "    .dataframe thead th {\n",
              "        text-align: right;\n",
              "    }\n",
              "</style>\n",
              "<table border=\"1\" class=\"dataframe\">\n",
              "  <thead>\n",
              "    <tr style=\"text-align: right;\">\n",
              "      <th></th>\n",
              "      <th>total_miss</th>\n",
              "      <th>percentage_miss</th>\n",
              "    </tr>\n",
              "  </thead>\n",
              "  <tbody>\n",
              "    <tr>\n",
              "      <th>mov_budget</th>\n",
              "      <td>2171</td>\n",
              "      <td>28.31</td>\n",
              "    </tr>\n",
              "    <tr>\n",
              "      <th>mov_gross</th>\n",
              "      <td>189</td>\n",
              "      <td>2.46</td>\n",
              "    </tr>\n",
              "    <tr>\n",
              "      <th>mov_rating</th>\n",
              "      <td>77</td>\n",
              "      <td>1.00</td>\n",
              "    </tr>\n",
              "    <tr>\n",
              "      <th>prod_company</th>\n",
              "      <td>17</td>\n",
              "      <td>0.22</td>\n",
              "    </tr>\n",
              "    <tr>\n",
              "      <th>mov_runtime</th>\n",
              "      <td>4</td>\n",
              "      <td>0.05</td>\n",
              "    </tr>\n",
              "    <tr>\n",
              "      <th>imdb_usr_score</th>\n",
              "      <td>3</td>\n",
              "      <td>0.04</td>\n",
              "    </tr>\n",
              "    <tr>\n",
              "      <th>usr_votes</th>\n",
              "      <td>3</td>\n",
              "      <td>0.04</td>\n",
              "    </tr>\n",
              "    <tr>\n",
              "      <th>writer_name</th>\n",
              "      <td>3</td>\n",
              "      <td>0.04</td>\n",
              "    </tr>\n",
              "    <tr>\n",
              "      <th>country_origin</th>\n",
              "      <td>3</td>\n",
              "      <td>0.04</td>\n",
              "    </tr>\n",
              "    <tr>\n",
              "      <th>released_date</th>\n",
              "      <td>2</td>\n",
              "      <td>0.03</td>\n",
              "    </tr>\n",
              "    <tr>\n",
              "      <th>star_name</th>\n",
              "      <td>1</td>\n",
              "      <td>0.01</td>\n",
              "    </tr>\n",
              "    <tr>\n",
              "      <th>mov_name</th>\n",
              "      <td>0</td>\n",
              "      <td>0.00</td>\n",
              "    </tr>\n",
              "    <tr>\n",
              "      <th>mov_genre</th>\n",
              "      <td>0</td>\n",
              "      <td>0.00</td>\n",
              "    </tr>\n",
              "    <tr>\n",
              "      <th>released_year</th>\n",
              "      <td>0</td>\n",
              "      <td>0.00</td>\n",
              "    </tr>\n",
              "    <tr>\n",
              "      <th>director_name</th>\n",
              "      <td>0</td>\n",
              "      <td>0.00</td>\n",
              "    </tr>\n",
              "  </tbody>\n",
              "</table>\n",
              "</div>\n",
              "      <button class=\"colab-df-convert\" onclick=\"convertToInteractive('df-5aa6e67f-8dc8-4496-b854-4d292b9dd2fe')\"\n",
              "              title=\"Convert this dataframe to an interactive table.\"\n",
              "              style=\"display:none;\">\n",
              "        \n",
              "  <svg xmlns=\"http://www.w3.org/2000/svg\" height=\"24px\"viewBox=\"0 0 24 24\"\n",
              "       width=\"24px\">\n",
              "    <path d=\"M0 0h24v24H0V0z\" fill=\"none\"/>\n",
              "    <path d=\"M18.56 5.44l.94 2.06.94-2.06 2.06-.94-2.06-.94-.94-2.06-.94 2.06-2.06.94zm-11 1L8.5 8.5l.94-2.06 2.06-.94-2.06-.94L8.5 2.5l-.94 2.06-2.06.94zm10 10l.94 2.06.94-2.06 2.06-.94-2.06-.94-.94-2.06-.94 2.06-2.06.94z\"/><path d=\"M17.41 7.96l-1.37-1.37c-.4-.4-.92-.59-1.43-.59-.52 0-1.04.2-1.43.59L10.3 9.45l-7.72 7.72c-.78.78-.78 2.05 0 2.83L4 21.41c.39.39.9.59 1.41.59.51 0 1.02-.2 1.41-.59l7.78-7.78 2.81-2.81c.8-.78.8-2.07 0-2.86zM5.41 20L4 18.59l7.72-7.72 1.47 1.35L5.41 20z\"/>\n",
              "  </svg>\n",
              "      </button>\n",
              "      \n",
              "  <style>\n",
              "    .colab-df-container {\n",
              "      display:flex;\n",
              "      flex-wrap:wrap;\n",
              "      gap: 12px;\n",
              "    }\n",
              "\n",
              "    .colab-df-convert {\n",
              "      background-color: #E8F0FE;\n",
              "      border: none;\n",
              "      border-radius: 50%;\n",
              "      cursor: pointer;\n",
              "      display: none;\n",
              "      fill: #1967D2;\n",
              "      height: 32px;\n",
              "      padding: 0 0 0 0;\n",
              "      width: 32px;\n",
              "    }\n",
              "\n",
              "    .colab-df-convert:hover {\n",
              "      background-color: #E2EBFA;\n",
              "      box-shadow: 0px 1px 2px rgba(60, 64, 67, 0.3), 0px 1px 3px 1px rgba(60, 64, 67, 0.15);\n",
              "      fill: #174EA6;\n",
              "    }\n",
              "\n",
              "    [theme=dark] .colab-df-convert {\n",
              "      background-color: #3B4455;\n",
              "      fill: #D2E3FC;\n",
              "    }\n",
              "\n",
              "    [theme=dark] .colab-df-convert:hover {\n",
              "      background-color: #434B5C;\n",
              "      box-shadow: 0px 1px 3px 1px rgba(0, 0, 0, 0.15);\n",
              "      filter: drop-shadow(0px 1px 2px rgba(0, 0, 0, 0.3));\n",
              "      fill: #FFFFFF;\n",
              "    }\n",
              "  </style>\n",
              "\n",
              "      <script>\n",
              "        const buttonEl =\n",
              "          document.querySelector('#df-5aa6e67f-8dc8-4496-b854-4d292b9dd2fe button.colab-df-convert');\n",
              "        buttonEl.style.display =\n",
              "          google.colab.kernel.accessAllowed ? 'block' : 'none';\n",
              "\n",
              "        async function convertToInteractive(key) {\n",
              "          const element = document.querySelector('#df-5aa6e67f-8dc8-4496-b854-4d292b9dd2fe');\n",
              "          const dataTable =\n",
              "            await google.colab.kernel.invokeFunction('convertToInteractive',\n",
              "                                                     [key], {});\n",
              "          if (!dataTable) return;\n",
              "\n",
              "          const docLinkHtml = 'Like what you see? Visit the ' +\n",
              "            '<a target=\"_blank\" href=https://colab.research.google.com/notebooks/data_table.ipynb>data table notebook</a>'\n",
              "            + ' to learn more about interactive tables.';\n",
              "          element.innerHTML = '';\n",
              "          dataTable['output_type'] = 'display_data';\n",
              "          await google.colab.output.renderOutput(dataTable, element);\n",
              "          const docLink = document.createElement('div');\n",
              "          docLink.innerHTML = docLinkHtml;\n",
              "          element.appendChild(docLink);\n",
              "        }\n",
              "      </script>\n",
              "    </div>\n",
              "  </div>\n",
              "  "
            ]
          },
          "metadata": {},
          "execution_count": 77
        }
      ]
    },
    {
      "cell_type": "markdown",
      "source": [
        "because mov_budget is the most column related with mov_gross and in case of we don't know both column this can effect on quality of data, so i prefer to drop all recods that has missing value in both column "
      ],
      "metadata": {
        "id": "AX-GuObDILAa"
      }
    },
    {
      "cell_type": "code",
      "source": [
        "df.dropna(how = 'all' , subset=['mov_budget' , 'mov_gross'] ,inplace =True)\n",
        "df.isnull().sum().sort_values(ascending =False)"
      ],
      "metadata": {
        "colab": {
          "base_uri": "https://localhost:8080/"
        },
        "id": "ZuBw3S5zi447",
        "outputId": "0d73cc37-6158-4caf-dda2-23d10582d549"
      },
      "execution_count": 78,
      "outputs": [
        {
          "output_type": "execute_result",
          "data": {
            "text/plain": [
              "mov_budget        2043\n",
              "mov_rating          62\n",
              "mov_gross           61\n",
              "prod_company        14\n",
              "imdb_usr_score       3\n",
              "usr_votes            3\n",
              "writer_name          3\n",
              "mov_runtime          2\n",
              "star_name            1\n",
              "country_origin       1\n",
              "mov_name             0\n",
              "mov_genre            0\n",
              "released_year        0\n",
              "released_date        0\n",
              "director_name        0\n",
              "dtype: int64"
            ]
          },
          "metadata": {},
          "execution_count": 78
        }
      ]
    },
    {
      "cell_type": "markdown",
      "source": [
        "we can delete records of this missing Value \n",
        "\n",
        "<ul>\n",
        "<li>mov_runtime   ===>       4</li>\n",
        "<li>imdb_usr_score  ===>     3</li>\n",
        "<li>usr_votes       ===>     3</li>\n",
        "<li>writer_name    ===>      3</li>\n",
        "<li>country_origin    ===>   3</li>\n",
        "<li>released_date   ===>     2</li>\n",
        "<li>star_name         ===>   1</li>\n",
        "</ul>"
      ],
      "metadata": {
        "id": "jlKYEgY6IiDI"
      }
    },
    {
      "cell_type": "code",
      "source": [
        "df.dropna(subset =['star_name','released_date','imdb_usr_score','country_origin','writer_name','mov_runtime'] ,\n",
        "          inplace = True)\n",
        "#missing_value(df)\n",
        "df.isnull().sum().sort_values(ascending =False)"
      ],
      "metadata": {
        "colab": {
          "base_uri": "https://localhost:8080/"
        },
        "id": "9maXasUZI7bv",
        "outputId": "cf5fd01f-bf7b-4816-bbc3-27400d89df67"
      },
      "execution_count": 79,
      "outputs": [
        {
          "output_type": "execute_result",
          "data": {
            "text/plain": [
              "mov_budget        2040\n",
              "mov_rating          57\n",
              "mov_gross           56\n",
              "prod_company        12\n",
              "mov_name             0\n",
              "mov_genre            0\n",
              "released_year        0\n",
              "released_date        0\n",
              "imdb_usr_score       0\n",
              "usr_votes            0\n",
              "director_name        0\n",
              "writer_name          0\n",
              "star_name            0\n",
              "country_origin       0\n",
              "mov_runtime          0\n",
              "dtype: int64"
            ]
          },
          "metadata": {},
          "execution_count": 79
        }
      ]
    },
    {
      "cell_type": "markdown",
      "source": [
        "Clean missing values in Prod_company column"
      ],
      "metadata": {
        "id": "vZJAgSJZzXmi"
      }
    },
    {
      "cell_type": "code",
      "source": [
        "df['prod_company'] = df[['prod_company']].apply(lambda x : x.fillna(x.value_counts().index[0]) )\n",
        "df.isnull().sum().sort_values(ascending = False)"
      ],
      "metadata": {
        "colab": {
          "base_uri": "https://localhost:8080/"
        },
        "id": "wxve99fszqMo",
        "outputId": "44879db2-32b6-4684-f1a3-3ca65b294e6e"
      },
      "execution_count": 80,
      "outputs": [
        {
          "output_type": "execute_result",
          "data": {
            "text/plain": [
              "mov_budget        2040\n",
              "mov_rating          57\n",
              "mov_gross           56\n",
              "mov_name             0\n",
              "mov_genre            0\n",
              "released_year        0\n",
              "released_date        0\n",
              "imdb_usr_score       0\n",
              "usr_votes            0\n",
              "director_name        0\n",
              "writer_name          0\n",
              "star_name            0\n",
              "country_origin       0\n",
              "prod_company         0\n",
              "mov_runtime          0\n",
              "dtype: int64"
            ]
          },
          "metadata": {},
          "execution_count": 80
        }
      ]
    },
    {
      "cell_type": "markdown",
      "source": [
        "I think that budget of movies depended on type of movie \n",
        "\n",
        "so we can clean missing data in 'mov_buget' an 'mov_gross' based on 'mov_genre'"
      ],
      "metadata": {
        "id": "dVCjNm-I45XN"
      }
    },
    {
      "cell_type": "code",
      "source": [
        "df['mov_budget']= df.groupby(['mov_genre'])['mov_budget'].apply(lambda x : x.fillna(x.mean()))\n",
        "df.isnull().sum().sort_values(ascending = False)"
      ],
      "metadata": {
        "colab": {
          "base_uri": "https://localhost:8080/"
        },
        "id": "udlwc46EI-8G",
        "outputId": "1fdfc462-7254-4e67-f02e-1f8239ea8e79"
      },
      "execution_count": 81,
      "outputs": [
        {
          "output_type": "execute_result",
          "data": {
            "text/plain": [
              "mov_rating        57\n",
              "mov_gross         56\n",
              "mov_budget         4\n",
              "mov_name           0\n",
              "mov_genre          0\n",
              "released_year      0\n",
              "released_date      0\n",
              "imdb_usr_score     0\n",
              "usr_votes          0\n",
              "director_name      0\n",
              "writer_name        0\n",
              "star_name          0\n",
              "country_origin     0\n",
              "prod_company       0\n",
              "mov_runtime        0\n",
              "dtype: int64"
            ]
          },
          "metadata": {},
          "execution_count": 81
        }
      ]
    },
    {
      "cell_type": "code",
      "source": [
        "df['mov_genre'].value_counts()"
      ],
      "metadata": {
        "colab": {
          "base_uri": "https://localhost:8080/"
        },
        "id": "BYnQVp7S9NgB",
        "outputId": "746b5b41-d4a7-4ca9-fc33-569eab2b5703"
      },
      "execution_count": 82,
      "outputs": [
        {
          "output_type": "execute_result",
          "data": {
            "text/plain": [
              "Comedy       2205\n",
              "Action       1681\n",
              "Drama        1475\n",
              "Crime         547\n",
              "Biography     436\n",
              "Adventure     422\n",
              "Animation     335\n",
              "Horror        316\n",
              "Fantasy        43\n",
              "Mystery        20\n",
              "Thriller       14\n",
              "Family         11\n",
              "Sci-Fi         10\n",
              "Romance         8\n",
              "Western         3\n",
              "Musical         2\n",
              "Music           1\n",
              "Sport           1\n",
              "Name: mov_genre, dtype: int64"
            ]
          },
          "metadata": {},
          "execution_count": 82
        }
      ]
    },
    {
      "cell_type": "markdown",
      "source": [
        "there is 4 records still have missing values because of no repeat of genre of this movie \n",
        "\n",
        "we can fill it with mean of mov_buget"
      ],
      "metadata": {
        "id": "y9R0qkOT9DDy"
      }
    },
    {
      "cell_type": "code",
      "source": [
        "#df['mov_budget'].mean()\n",
        "df['mov_budget'] = df['mov_budget'].fillna(df['mov_budget'].mean())\n",
        "missing_value(df)"
      ],
      "metadata": {
        "colab": {
          "base_uri": "https://localhost:8080/",
          "height": 520
        },
        "id": "jBxnq1lQ9jq9",
        "outputId": "e7a32d74-55d4-42e9-be69-959f4a534473"
      },
      "execution_count": 83,
      "outputs": [
        {
          "output_type": "execute_result",
          "data": {
            "text/plain": [
              "                total_miss  percentage_miss\n",
              "mov_rating              57             0.76\n",
              "mov_gross               56             0.74\n",
              "mov_name                 0             0.00\n",
              "mov_genre                0             0.00\n",
              "released_year            0             0.00\n",
              "released_date            0             0.00\n",
              "imdb_usr_score           0             0.00\n",
              "usr_votes                0             0.00\n",
              "director_name            0             0.00\n",
              "writer_name              0             0.00\n",
              "star_name                0             0.00\n",
              "country_origin           0             0.00\n",
              "mov_budget               0             0.00\n",
              "prod_company             0             0.00\n",
              "mov_runtime              0             0.00"
            ],
            "text/html": [
              "\n",
              "  <div id=\"df-010fa1d0-19d4-45b6-bd03-5f825945f767\">\n",
              "    <div class=\"colab-df-container\">\n",
              "      <div>\n",
              "<style scoped>\n",
              "    .dataframe tbody tr th:only-of-type {\n",
              "        vertical-align: middle;\n",
              "    }\n",
              "\n",
              "    .dataframe tbody tr th {\n",
              "        vertical-align: top;\n",
              "    }\n",
              "\n",
              "    .dataframe thead th {\n",
              "        text-align: right;\n",
              "    }\n",
              "</style>\n",
              "<table border=\"1\" class=\"dataframe\">\n",
              "  <thead>\n",
              "    <tr style=\"text-align: right;\">\n",
              "      <th></th>\n",
              "      <th>total_miss</th>\n",
              "      <th>percentage_miss</th>\n",
              "    </tr>\n",
              "  </thead>\n",
              "  <tbody>\n",
              "    <tr>\n",
              "      <th>mov_rating</th>\n",
              "      <td>57</td>\n",
              "      <td>0.76</td>\n",
              "    </tr>\n",
              "    <tr>\n",
              "      <th>mov_gross</th>\n",
              "      <td>56</td>\n",
              "      <td>0.74</td>\n",
              "    </tr>\n",
              "    <tr>\n",
              "      <th>mov_name</th>\n",
              "      <td>0</td>\n",
              "      <td>0.00</td>\n",
              "    </tr>\n",
              "    <tr>\n",
              "      <th>mov_genre</th>\n",
              "      <td>0</td>\n",
              "      <td>0.00</td>\n",
              "    </tr>\n",
              "    <tr>\n",
              "      <th>released_year</th>\n",
              "      <td>0</td>\n",
              "      <td>0.00</td>\n",
              "    </tr>\n",
              "    <tr>\n",
              "      <th>released_date</th>\n",
              "      <td>0</td>\n",
              "      <td>0.00</td>\n",
              "    </tr>\n",
              "    <tr>\n",
              "      <th>imdb_usr_score</th>\n",
              "      <td>0</td>\n",
              "      <td>0.00</td>\n",
              "    </tr>\n",
              "    <tr>\n",
              "      <th>usr_votes</th>\n",
              "      <td>0</td>\n",
              "      <td>0.00</td>\n",
              "    </tr>\n",
              "    <tr>\n",
              "      <th>director_name</th>\n",
              "      <td>0</td>\n",
              "      <td>0.00</td>\n",
              "    </tr>\n",
              "    <tr>\n",
              "      <th>writer_name</th>\n",
              "      <td>0</td>\n",
              "      <td>0.00</td>\n",
              "    </tr>\n",
              "    <tr>\n",
              "      <th>star_name</th>\n",
              "      <td>0</td>\n",
              "      <td>0.00</td>\n",
              "    </tr>\n",
              "    <tr>\n",
              "      <th>country_origin</th>\n",
              "      <td>0</td>\n",
              "      <td>0.00</td>\n",
              "    </tr>\n",
              "    <tr>\n",
              "      <th>mov_budget</th>\n",
              "      <td>0</td>\n",
              "      <td>0.00</td>\n",
              "    </tr>\n",
              "    <tr>\n",
              "      <th>prod_company</th>\n",
              "      <td>0</td>\n",
              "      <td>0.00</td>\n",
              "    </tr>\n",
              "    <tr>\n",
              "      <th>mov_runtime</th>\n",
              "      <td>0</td>\n",
              "      <td>0.00</td>\n",
              "    </tr>\n",
              "  </tbody>\n",
              "</table>\n",
              "</div>\n",
              "      <button class=\"colab-df-convert\" onclick=\"convertToInteractive('df-010fa1d0-19d4-45b6-bd03-5f825945f767')\"\n",
              "              title=\"Convert this dataframe to an interactive table.\"\n",
              "              style=\"display:none;\">\n",
              "        \n",
              "  <svg xmlns=\"http://www.w3.org/2000/svg\" height=\"24px\"viewBox=\"0 0 24 24\"\n",
              "       width=\"24px\">\n",
              "    <path d=\"M0 0h24v24H0V0z\" fill=\"none\"/>\n",
              "    <path d=\"M18.56 5.44l.94 2.06.94-2.06 2.06-.94-2.06-.94-.94-2.06-.94 2.06-2.06.94zm-11 1L8.5 8.5l.94-2.06 2.06-.94-2.06-.94L8.5 2.5l-.94 2.06-2.06.94zm10 10l.94 2.06.94-2.06 2.06-.94-2.06-.94-.94-2.06-.94 2.06-2.06.94z\"/><path d=\"M17.41 7.96l-1.37-1.37c-.4-.4-.92-.59-1.43-.59-.52 0-1.04.2-1.43.59L10.3 9.45l-7.72 7.72c-.78.78-.78 2.05 0 2.83L4 21.41c.39.39.9.59 1.41.59.51 0 1.02-.2 1.41-.59l7.78-7.78 2.81-2.81c.8-.78.8-2.07 0-2.86zM5.41 20L4 18.59l7.72-7.72 1.47 1.35L5.41 20z\"/>\n",
              "  </svg>\n",
              "      </button>\n",
              "      \n",
              "  <style>\n",
              "    .colab-df-container {\n",
              "      display:flex;\n",
              "      flex-wrap:wrap;\n",
              "      gap: 12px;\n",
              "    }\n",
              "\n",
              "    .colab-df-convert {\n",
              "      background-color: #E8F0FE;\n",
              "      border: none;\n",
              "      border-radius: 50%;\n",
              "      cursor: pointer;\n",
              "      display: none;\n",
              "      fill: #1967D2;\n",
              "      height: 32px;\n",
              "      padding: 0 0 0 0;\n",
              "      width: 32px;\n",
              "    }\n",
              "\n",
              "    .colab-df-convert:hover {\n",
              "      background-color: #E2EBFA;\n",
              "      box-shadow: 0px 1px 2px rgba(60, 64, 67, 0.3), 0px 1px 3px 1px rgba(60, 64, 67, 0.15);\n",
              "      fill: #174EA6;\n",
              "    }\n",
              "\n",
              "    [theme=dark] .colab-df-convert {\n",
              "      background-color: #3B4455;\n",
              "      fill: #D2E3FC;\n",
              "    }\n",
              "\n",
              "    [theme=dark] .colab-df-convert:hover {\n",
              "      background-color: #434B5C;\n",
              "      box-shadow: 0px 1px 3px 1px rgba(0, 0, 0, 0.15);\n",
              "      filter: drop-shadow(0px 1px 2px rgba(0, 0, 0, 0.3));\n",
              "      fill: #FFFFFF;\n",
              "    }\n",
              "  </style>\n",
              "\n",
              "      <script>\n",
              "        const buttonEl =\n",
              "          document.querySelector('#df-010fa1d0-19d4-45b6-bd03-5f825945f767 button.colab-df-convert');\n",
              "        buttonEl.style.display =\n",
              "          google.colab.kernel.accessAllowed ? 'block' : 'none';\n",
              "\n",
              "        async function convertToInteractive(key) {\n",
              "          const element = document.querySelector('#df-010fa1d0-19d4-45b6-bd03-5f825945f767');\n",
              "          const dataTable =\n",
              "            await google.colab.kernel.invokeFunction('convertToInteractive',\n",
              "                                                     [key], {});\n",
              "          if (!dataTable) return;\n",
              "\n",
              "          const docLinkHtml = 'Like what you see? Visit the ' +\n",
              "            '<a target=\"_blank\" href=https://colab.research.google.com/notebooks/data_table.ipynb>data table notebook</a>'\n",
              "            + ' to learn more about interactive tables.';\n",
              "          element.innerHTML = '';\n",
              "          dataTable['output_type'] = 'display_data';\n",
              "          await google.colab.output.renderOutput(dataTable, element);\n",
              "          const docLink = document.createElement('div');\n",
              "          docLink.innerHTML = docLinkHtml;\n",
              "          element.appendChild(docLink);\n",
              "        }\n",
              "      </script>\n",
              "    </div>\n",
              "  </div>\n",
              "  "
            ]
          },
          "metadata": {},
          "execution_count": 83
        }
      ]
    },
    {
      "cell_type": "markdown",
      "source": [
        "let's fill mov_gross "
      ],
      "metadata": {
        "id": "HnM-MKvIXTDN"
      }
    },
    {
      "cell_type": "code",
      "source": [
        "df['mov_gross'] = df.groupby(['mov_genre'])['mov_gross'].apply(lambda x : x.fillna(x.mean()))\n",
        "missing_value(df)"
      ],
      "metadata": {
        "colab": {
          "base_uri": "https://localhost:8080/",
          "height": 520
        },
        "id": "mknSRTOrXYAB",
        "outputId": "e2b9564d-952c-468b-cefb-7060fa7c9fff"
      },
      "execution_count": 84,
      "outputs": [
        {
          "output_type": "execute_result",
          "data": {
            "text/plain": [
              "                total_miss  percentage_miss\n",
              "mov_rating              57             0.76\n",
              "mov_name                 0             0.00\n",
              "mov_genre                0             0.00\n",
              "released_year            0             0.00\n",
              "released_date            0             0.00\n",
              "imdb_usr_score           0             0.00\n",
              "usr_votes                0             0.00\n",
              "director_name            0             0.00\n",
              "writer_name              0             0.00\n",
              "star_name                0             0.00\n",
              "country_origin           0             0.00\n",
              "mov_budget               0             0.00\n",
              "mov_gross                0             0.00\n",
              "prod_company             0             0.00\n",
              "mov_runtime              0             0.00"
            ],
            "text/html": [
              "\n",
              "  <div id=\"df-f1dfa127-9bdd-406c-9410-e0bc44c229d3\">\n",
              "    <div class=\"colab-df-container\">\n",
              "      <div>\n",
              "<style scoped>\n",
              "    .dataframe tbody tr th:only-of-type {\n",
              "        vertical-align: middle;\n",
              "    }\n",
              "\n",
              "    .dataframe tbody tr th {\n",
              "        vertical-align: top;\n",
              "    }\n",
              "\n",
              "    .dataframe thead th {\n",
              "        text-align: right;\n",
              "    }\n",
              "</style>\n",
              "<table border=\"1\" class=\"dataframe\">\n",
              "  <thead>\n",
              "    <tr style=\"text-align: right;\">\n",
              "      <th></th>\n",
              "      <th>total_miss</th>\n",
              "      <th>percentage_miss</th>\n",
              "    </tr>\n",
              "  </thead>\n",
              "  <tbody>\n",
              "    <tr>\n",
              "      <th>mov_rating</th>\n",
              "      <td>57</td>\n",
              "      <td>0.76</td>\n",
              "    </tr>\n",
              "    <tr>\n",
              "      <th>mov_name</th>\n",
              "      <td>0</td>\n",
              "      <td>0.00</td>\n",
              "    </tr>\n",
              "    <tr>\n",
              "      <th>mov_genre</th>\n",
              "      <td>0</td>\n",
              "      <td>0.00</td>\n",
              "    </tr>\n",
              "    <tr>\n",
              "      <th>released_year</th>\n",
              "      <td>0</td>\n",
              "      <td>0.00</td>\n",
              "    </tr>\n",
              "    <tr>\n",
              "      <th>released_date</th>\n",
              "      <td>0</td>\n",
              "      <td>0.00</td>\n",
              "    </tr>\n",
              "    <tr>\n",
              "      <th>imdb_usr_score</th>\n",
              "      <td>0</td>\n",
              "      <td>0.00</td>\n",
              "    </tr>\n",
              "    <tr>\n",
              "      <th>usr_votes</th>\n",
              "      <td>0</td>\n",
              "      <td>0.00</td>\n",
              "    </tr>\n",
              "    <tr>\n",
              "      <th>director_name</th>\n",
              "      <td>0</td>\n",
              "      <td>0.00</td>\n",
              "    </tr>\n",
              "    <tr>\n",
              "      <th>writer_name</th>\n",
              "      <td>0</td>\n",
              "      <td>0.00</td>\n",
              "    </tr>\n",
              "    <tr>\n",
              "      <th>star_name</th>\n",
              "      <td>0</td>\n",
              "      <td>0.00</td>\n",
              "    </tr>\n",
              "    <tr>\n",
              "      <th>country_origin</th>\n",
              "      <td>0</td>\n",
              "      <td>0.00</td>\n",
              "    </tr>\n",
              "    <tr>\n",
              "      <th>mov_budget</th>\n",
              "      <td>0</td>\n",
              "      <td>0.00</td>\n",
              "    </tr>\n",
              "    <tr>\n",
              "      <th>mov_gross</th>\n",
              "      <td>0</td>\n",
              "      <td>0.00</td>\n",
              "    </tr>\n",
              "    <tr>\n",
              "      <th>prod_company</th>\n",
              "      <td>0</td>\n",
              "      <td>0.00</td>\n",
              "    </tr>\n",
              "    <tr>\n",
              "      <th>mov_runtime</th>\n",
              "      <td>0</td>\n",
              "      <td>0.00</td>\n",
              "    </tr>\n",
              "  </tbody>\n",
              "</table>\n",
              "</div>\n",
              "      <button class=\"colab-df-convert\" onclick=\"convertToInteractive('df-f1dfa127-9bdd-406c-9410-e0bc44c229d3')\"\n",
              "              title=\"Convert this dataframe to an interactive table.\"\n",
              "              style=\"display:none;\">\n",
              "        \n",
              "  <svg xmlns=\"http://www.w3.org/2000/svg\" height=\"24px\"viewBox=\"0 0 24 24\"\n",
              "       width=\"24px\">\n",
              "    <path d=\"M0 0h24v24H0V0z\" fill=\"none\"/>\n",
              "    <path d=\"M18.56 5.44l.94 2.06.94-2.06 2.06-.94-2.06-.94-.94-2.06-.94 2.06-2.06.94zm-11 1L8.5 8.5l.94-2.06 2.06-.94-2.06-.94L8.5 2.5l-.94 2.06-2.06.94zm10 10l.94 2.06.94-2.06 2.06-.94-2.06-.94-.94-2.06-.94 2.06-2.06.94z\"/><path d=\"M17.41 7.96l-1.37-1.37c-.4-.4-.92-.59-1.43-.59-.52 0-1.04.2-1.43.59L10.3 9.45l-7.72 7.72c-.78.78-.78 2.05 0 2.83L4 21.41c.39.39.9.59 1.41.59.51 0 1.02-.2 1.41-.59l7.78-7.78 2.81-2.81c.8-.78.8-2.07 0-2.86zM5.41 20L4 18.59l7.72-7.72 1.47 1.35L5.41 20z\"/>\n",
              "  </svg>\n",
              "      </button>\n",
              "      \n",
              "  <style>\n",
              "    .colab-df-container {\n",
              "      display:flex;\n",
              "      flex-wrap:wrap;\n",
              "      gap: 12px;\n",
              "    }\n",
              "\n",
              "    .colab-df-convert {\n",
              "      background-color: #E8F0FE;\n",
              "      border: none;\n",
              "      border-radius: 50%;\n",
              "      cursor: pointer;\n",
              "      display: none;\n",
              "      fill: #1967D2;\n",
              "      height: 32px;\n",
              "      padding: 0 0 0 0;\n",
              "      width: 32px;\n",
              "    }\n",
              "\n",
              "    .colab-df-convert:hover {\n",
              "      background-color: #E2EBFA;\n",
              "      box-shadow: 0px 1px 2px rgba(60, 64, 67, 0.3), 0px 1px 3px 1px rgba(60, 64, 67, 0.15);\n",
              "      fill: #174EA6;\n",
              "    }\n",
              "\n",
              "    [theme=dark] .colab-df-convert {\n",
              "      background-color: #3B4455;\n",
              "      fill: #D2E3FC;\n",
              "    }\n",
              "\n",
              "    [theme=dark] .colab-df-convert:hover {\n",
              "      background-color: #434B5C;\n",
              "      box-shadow: 0px 1px 3px 1px rgba(0, 0, 0, 0.15);\n",
              "      filter: drop-shadow(0px 1px 2px rgba(0, 0, 0, 0.3));\n",
              "      fill: #FFFFFF;\n",
              "    }\n",
              "  </style>\n",
              "\n",
              "      <script>\n",
              "        const buttonEl =\n",
              "          document.querySelector('#df-f1dfa127-9bdd-406c-9410-e0bc44c229d3 button.colab-df-convert');\n",
              "        buttonEl.style.display =\n",
              "          google.colab.kernel.accessAllowed ? 'block' : 'none';\n",
              "\n",
              "        async function convertToInteractive(key) {\n",
              "          const element = document.querySelector('#df-f1dfa127-9bdd-406c-9410-e0bc44c229d3');\n",
              "          const dataTable =\n",
              "            await google.colab.kernel.invokeFunction('convertToInteractive',\n",
              "                                                     [key], {});\n",
              "          if (!dataTable) return;\n",
              "\n",
              "          const docLinkHtml = 'Like what you see? Visit the ' +\n",
              "            '<a target=\"_blank\" href=https://colab.research.google.com/notebooks/data_table.ipynb>data table notebook</a>'\n",
              "            + ' to learn more about interactive tables.';\n",
              "          element.innerHTML = '';\n",
              "          dataTable['output_type'] = 'display_data';\n",
              "          await google.colab.output.renderOutput(dataTable, element);\n",
              "          const docLink = document.createElement('div');\n",
              "          docLink.innerHTML = docLinkHtml;\n",
              "          element.appendChild(docLink);\n",
              "        }\n",
              "      </script>\n",
              "    </div>\n",
              "  </div>\n",
              "  "
            ]
          },
          "metadata": {},
          "execution_count": 84
        }
      ]
    },
    {
      "cell_type": "markdown",
      "source": [
        "let's clean **mov_rating**"
      ],
      "metadata": {
        "id": "b9Bvb_5UablP"
      }
    },
    {
      "cell_type": "code",
      "source": [
        "\n",
        "fg = plt.figure(figsize=(15,8))\n",
        "sns.barplot( df['mov_rating'].value_counts().index,\n",
        "            df['mov_rating'].value_counts()).set_title('Movie Rating')\n"
      ],
      "metadata": {
        "colab": {
          "base_uri": "https://localhost:8080/",
          "height": 426
        },
        "id": "15ZzZ7ltaa3w",
        "outputId": "5c36c852-369f-4a8d-f80f-ad25e7a171d8"
      },
      "execution_count": 85,
      "outputs": [
        {
          "output_type": "stream",
          "name": "stderr",
          "text": [
            "/usr/local/lib/python3.7/dist-packages/seaborn/_decorators.py:43: FutureWarning: Pass the following variables as keyword args: x, y. From version 0.12, the only valid positional argument will be `data`, and passing other arguments without an explicit keyword will result in an error or misinterpretation.\n",
            "  FutureWarning\n"
          ]
        },
        {
          "output_type": "execute_result",
          "data": {
            "text/plain": [
              "Text(0.5, 1.0, 'Movie Rating')"
            ]
          },
          "metadata": {},
          "execution_count": 85
        },
        {
          "output_type": "display_data",
          "data": {
            "text/plain": [
              "<Figure size 1080x576 with 1 Axes>"
            ],
            "image/png": "[encoded data removed]"
          },
          "metadata": {
            "needs_background": "light"
          }
        }
      ]
    },
    {
      "cell_type": "markdown",
      "source": [
        "first we convert Unrated and Not Rated to nan"
      ],
      "metadata": {
        "id": "zHOVfSmma-49"
      }
    },
    {
      "cell_type": "code",
      "source": [
        "df['mov_rating'].unique()"
      ],
      "metadata": {
        "colab": {
          "base_uri": "https://localhost:8080/"
        },
        "id": "sDYTwWNqcP4C",
        "outputId": "c0dbe2b8-d60e-44f0-a305-dc6e886ac540"
      },
      "execution_count": 86,
      "outputs": [
        {
          "output_type": "execute_result",
          "data": {
            "text/plain": [
              "array(['R', 'PG', 'G', nan, 'Not Rated', 'NC-17', 'Approved', 'PG-13',\n",
              "       'Unrated', 'X', 'TV-PG', 'TV-MA', 'TV-14'], dtype=object)"
            ]
          },
          "metadata": {},
          "execution_count": 86
        }
      ]
    },
    {
      "cell_type": "code",
      "source": [
        "df['mov_rating'] = df['mov_rating'].replace(['Unrated' ] ,'Not Rated')\n",
        "df['mov_rating'].unique()"
      ],
      "metadata": {
        "colab": {
          "base_uri": "https://localhost:8080/"
        },
        "id": "eyA-MA6XbMOA",
        "outputId": "f3c0e813-a83b-43b7-d77b-30eb85dd28f8"
      },
      "execution_count": 87,
      "outputs": [
        {
          "output_type": "execute_result",
          "data": {
            "text/plain": [
              "array(['R', 'PG', 'G', nan, 'Not Rated', 'NC-17', 'Approved', 'PG-13',\n",
              "       'X', 'TV-PG', 'TV-MA', 'TV-14'], dtype=object)"
            ]
          },
          "metadata": {},
          "execution_count": 87
        }
      ]
    },
    {
      "cell_type": "code",
      "source": [
        "df[df['mov_rating'].isnull()]\n",
        "df.isnull().sum().sort_values(ascending = False)"
      ],
      "metadata": {
        "colab": {
          "base_uri": "https://localhost:8080/"
        },
        "id": "ucjbt94Dcvqc",
        "outputId": "0c1689a6-36c5-45e4-fdc7-2320c8a4eaaa"
      },
      "execution_count": 88,
      "outputs": [
        {
          "output_type": "execute_result",
          "data": {
            "text/plain": [
              "mov_rating        57\n",
              "mov_name           0\n",
              "mov_genre          0\n",
              "released_year      0\n",
              "released_date      0\n",
              "imdb_usr_score     0\n",
              "usr_votes          0\n",
              "director_name      0\n",
              "writer_name        0\n",
              "star_name          0\n",
              "country_origin     0\n",
              "mov_budget         0\n",
              "mov_gross          0\n",
              "prod_company       0\n",
              "mov_runtime        0\n",
              "dtype: int64"
            ]
          },
          "metadata": {},
          "execution_count": 88
        }
      ]
    },
    {
      "cell_type": "code",
      "source": [
        "fg = plt.figure(figsize=(15,8))\n",
        "sns.barplot( df['mov_rating'].value_counts().index,\n",
        "            df['mov_rating'].value_counts()).set_title('Movie Rating')"
      ],
      "metadata": {
        "colab": {
          "base_uri": "https://localhost:8080/",
          "height": 426
        },
        "id": "JZdiGw1Od8Pc",
        "outputId": "6efdefa4-0077-46e2-cd43-6f55fbcfd57f"
      },
      "execution_count": 89,
      "outputs": [
        {
          "output_type": "stream",
          "name": "stderr",
          "text": [
            "/usr/local/lib/python3.7/dist-packages/seaborn/_decorators.py:43: FutureWarning: Pass the following variables as keyword args: x, y. From version 0.12, the only valid positional argument will be `data`, and passing other arguments without an explicit keyword will result in an error or misinterpretation.\n",
            "  FutureWarning\n"
          ]
        },
        {
          "output_type": "execute_result",
          "data": {
            "text/plain": [
              "Text(0.5, 1.0, 'Movie Rating')"
            ]
          },
          "metadata": {},
          "execution_count": 89
        },
        {
          "output_type": "display_data",
          "data": {
            "text/plain": [
              "<Figure size 1080x576 with 1 Axes>"
            ],
            "image/png": "[encoded data removed]"
          },
          "metadata": {
            "needs_background": "light"
          }
        }
      ]
    },
    {
      "cell_type": "code",
      "source": [
        "df['mov_rating'].value_counts()"
      ],
      "metadata": {
        "colab": {
          "base_uri": "https://localhost:8080/"
        },
        "id": "sacj0MYOgHXQ",
        "outputId": "f141a5c2-de72-46dd-c3ef-aab3a6c1f350"
      },
      "execution_count": 90,
      "outputs": [
        {
          "output_type": "execute_result",
          "data": {
            "text/plain": [
              "R            3644\n",
              "PG-13        2097\n",
              "PG           1231\n",
              "Not Rated     309\n",
              "G             152\n",
              "NC-17          23\n",
              "TV-MA           9\n",
              "X               3\n",
              "TV-PG           3\n",
              "Approved        1\n",
              "TV-14           1\n",
              "Name: mov_rating, dtype: int64"
            ]
          },
          "metadata": {},
          "execution_count": 90
        }
      ]
    },
    {
      "cell_type": "markdown",
      "source": [
        "we can make values of mov_rating is [R - PG-13,PG,G, other]"
      ],
      "metadata": {
        "id": "rnxSf5rFkez0"
      }
    },
    {
      "cell_type": "code",
      "source": [
        "df['mov_rating'] = df['mov_rating'].replace(['NC-17','TV-MA','X','TV-PG','Approved','TV-14'] , 'others')\n",
        "df['mov_rating'].value_counts()"
      ],
      "metadata": {
        "colab": {
          "base_uri": "https://localhost:8080/"
        },
        "id": "Ef6b3yPKkxO0",
        "outputId": "589eea5f-6442-4981-a57d-3792b5b75f38"
      },
      "execution_count": 91,
      "outputs": [
        {
          "output_type": "execute_result",
          "data": {
            "text/plain": [
              "R            3644\n",
              "PG-13        2097\n",
              "PG           1231\n",
              "Not Rated     309\n",
              "G             152\n",
              "others         40\n",
              "Name: mov_rating, dtype: int64"
            ]
          },
          "metadata": {},
          "execution_count": 91
        }
      ]
    },
    {
      "cell_type": "code",
      "source": [
        "df['mov_rating'] = df['mov_rating'].fillna(df['mov_rating'].value_counts().index[0])\n",
        "df.isnull().sum().sort_values(ascending = False)"
      ],
      "metadata": {
        "colab": {
          "base_uri": "https://localhost:8080/"
        },
        "id": "cTdL_OqpUYur",
        "outputId": "13eb29c0-8c21-47be-fa10-117b167777b0"
      },
      "execution_count": 92,
      "outputs": [
        {
          "output_type": "execute_result",
          "data": {
            "text/plain": [
              "mov_name          0\n",
              "mov_rating        0\n",
              "mov_genre         0\n",
              "released_year     0\n",
              "released_date     0\n",
              "imdb_usr_score    0\n",
              "usr_votes         0\n",
              "director_name     0\n",
              "writer_name       0\n",
              "star_name         0\n",
              "country_origin    0\n",
              "mov_budget        0\n",
              "mov_gross         0\n",
              "prod_company      0\n",
              "mov_runtime       0\n",
              "dtype: int64"
            ]
          },
          "metadata": {},
          "execution_count": 92
        }
      ]
    },
    {
      "cell_type": "code",
      "source": [
        "fg = plt.figure(figsize=(14,8))\n",
        "sns.barplot( df['mov_rating'].value_counts().index,\n",
        "            df['mov_rating'].value_counts()).set_title('Movie Rating')"
      ],
      "metadata": {
        "colab": {
          "base_uri": "https://localhost:8080/",
          "height": 449
        },
        "id": "tI_pjT6mxdaP",
        "outputId": "e223d668-44a2-415d-f841-4e583d33d94d"
      },
      "execution_count": 93,
      "outputs": [
        {
          "output_type": "stream",
          "name": "stderr",
          "text": [
            "/usr/local/lib/python3.7/dist-packages/seaborn/_decorators.py:43: FutureWarning: Pass the following variables as keyword args: x, y. From version 0.12, the only valid positional argument will be `data`, and passing other arguments without an explicit keyword will result in an error or misinterpretation.\n",
            "  FutureWarning\n"
          ]
        },
        {
          "output_type": "execute_result",
          "data": {
            "text/plain": [
              "Text(0.5, 1.0, 'Movie Rating')"
            ]
          },
          "metadata": {},
          "execution_count": 93
        },
        {
          "output_type": "display_data",
          "data": {
            "text/plain": [
              "<Figure size 1008x576 with 1 Axes>"
            ],
            "image/png": "[encoded data removed]"
          },
          "metadata": {
            "needs_background": "light"
          }
        }
      ]
    },
    {
      "cell_type": "markdown",
      "source": [
        "LET'S clean released_date column"
      ],
      "metadata": {
        "id": "FQyj218EVciH"
      }
    },
    {
      "cell_type": "code",
      "source": [
        "df[['released_date']]"
      ],
      "metadata": {
        "colab": {
          "base_uri": "https://localhost:8080/",
          "height": 424
        },
        "id": "TF7zWiPmVbu_",
        "outputId": "f1d37797-fa2f-4f25-8a43-ea4afe53520d"
      },
      "execution_count": 94,
      "outputs": [
        {
          "output_type": "execute_result",
          "data": {
            "text/plain": [
              "                           released_date\n",
              "0          June 13, 1980 (United States)\n",
              "1           July 2, 1980 (United States)\n",
              "2          June 20, 1980 (United States)\n",
              "3           July 2, 1980 (United States)\n",
              "4          July 25, 1980 (United States)\n",
              "...                                  ...\n",
              "7656        June 3, 2020 (United States)\n",
              "7657  September 25, 2020 (United States)\n",
              "7658    February 7, 2020 (United States)\n",
              "7659       March 3, 2020 (United States)\n",
              "7663    October 23, 2020 (United States)\n",
              "\n",
              "[7530 rows x 1 columns]"
            ],
            "text/html": [
              "\n",
              "  <div id=\"df-f2e310d4-b5c7-4b1f-8040-6ffde16bb93e\">\n",
              "    <div class=\"colab-df-container\">\n",
              "      <div>\n",
              "<style scoped>\n",
              "    .dataframe tbody tr th:only-of-type {\n",
              "        vertical-align: middle;\n",
              "    }\n",
              "\n",
              "    .dataframe tbody tr th {\n",
              "        vertical-align: top;\n",
              "    }\n",
              "\n",
              "    .dataframe thead th {\n",
              "        text-align: right;\n",
              "    }\n",
              "</style>\n",
              "<table border=\"1\" class=\"dataframe\">\n",
              "  <thead>\n",
              "    <tr style=\"text-align: right;\">\n",
              "      <th></th>\n",
              "      <th>released_date</th>\n",
              "    </tr>\n",
              "  </thead>\n",
              "  <tbody>\n",
              "    <tr>\n",
              "      <th>0</th>\n",
              "      <td>June 13, 1980 (United States)</td>\n",
              "    </tr>\n",
              "    <tr>\n",
              "      <th>1</th>\n",
              "      <td>July 2, 1980 (United States)</td>\n",
              "    </tr>\n",
              "    <tr>\n",
              "      <th>2</th>\n",
              "      <td>June 20, 1980 (United States)</td>\n",
              "    </tr>\n",
              "    <tr>\n",
              "      <th>3</th>\n",
              "      <td>July 2, 1980 (United States)</td>\n",
              "    </tr>\n",
              "    <tr>\n",
              "      <th>4</th>\n",
              "      <td>July 25, 1980 (United States)</td>\n",
              "    </tr>\n",
              "    <tr>\n",
              "      <th>...</th>\n",
              "      <td>...</td>\n",
              "    </tr>\n",
              "    <tr>\n",
              "      <th>7656</th>\n",
              "      <td>June 3, 2020 (United States)</td>\n",
              "    </tr>\n",
              "    <tr>\n",
              "      <th>7657</th>\n",
              "      <td>September 25, 2020 (United States)</td>\n",
              "    </tr>\n",
              "    <tr>\n",
              "      <th>7658</th>\n",
              "      <td>February 7, 2020 (United States)</td>\n",
              "    </tr>\n",
              "    <tr>\n",
              "      <th>7659</th>\n",
              "      <td>March 3, 2020 (United States)</td>\n",
              "    </tr>\n",
              "    <tr>\n",
              "      <th>7663</th>\n",
              "      <td>October 23, 2020 (United States)</td>\n",
              "    </tr>\n",
              "  </tbody>\n",
              "</table>\n",
              "<p>7530 rows × 1 columns</p>\n",
              "</div>\n",
              "      <button class=\"colab-df-convert\" onclick=\"convertToInteractive('df-f2e310d4-b5c7-4b1f-8040-6ffde16bb93e')\"\n",
              "              title=\"Convert this dataframe to an interactive table.\"\n",
              "              style=\"display:none;\">\n",
              "        \n",
              "  <svg xmlns=\"http://www.w3.org/2000/svg\" height=\"24px\"viewBox=\"0 0 24 24\"\n",
              "       width=\"24px\">\n",
              "    <path d=\"M0 0h24v24H0V0z\" fill=\"none\"/>\n",
              "    <path d=\"M18.56 5.44l.94 2.06.94-2.06 2.06-.94-2.06-.94-.94-2.06-.94 2.06-2.06.94zm-11 1L8.5 8.5l.94-2.06 2.06-.94-2.06-.94L8.5 2.5l-.94 2.06-2.06.94zm10 10l.94 2.06.94-2.06 2.06-.94-2.06-.94-.94-2.06-.94 2.06-2.06.94z\"/><path d=\"M17.41 7.96l-1.37-1.37c-.4-.4-.92-.59-1.43-.59-.52 0-1.04.2-1.43.59L10.3 9.45l-7.72 7.72c-.78.78-.78 2.05 0 2.83L4 21.41c.39.39.9.59 1.41.59.51 0 1.02-.2 1.41-.59l7.78-7.78 2.81-2.81c.8-.78.8-2.07 0-2.86zM5.41 20L4 18.59l7.72-7.72 1.47 1.35L5.41 20z\"/>\n",
              "  </svg>\n",
              "      </button>\n",
              "      \n",
              "  <style>\n",
              "    .colab-df-container {\n",
              "      display:flex;\n",
              "      flex-wrap:wrap;\n",
              "      gap: 12px;\n",
              "    }\n",
              "\n",
              "    .colab-df-convert {\n",
              "      background-color: #E8F0FE;\n",
              "      border: none;\n",
              "      border-radius: 50%;\n",
              "      cursor: pointer;\n",
              "      display: none;\n",
              "      fill: #1967D2;\n",
              "      height: 32px;\n",
              "      padding: 0 0 0 0;\n",
              "      width: 32px;\n",
              "    }\n",
              "\n",
              "    .colab-df-convert:hover {\n",
              "      background-color: #E2EBFA;\n",
              "      box-shadow: 0px 1px 2px rgba(60, 64, 67, 0.3), 0px 1px 3px 1px rgba(60, 64, 67, 0.15);\n",
              "      fill: #174EA6;\n",
              "    }\n",
              "\n",
              "    [theme=dark] .colab-df-convert {\n",
              "      background-color: #3B4455;\n",
              "      fill: #D2E3FC;\n",
              "    }\n",
              "\n",
              "    [theme=dark] .colab-df-convert:hover {\n",
              "      background-color: #434B5C;\n",
              "      box-shadow: 0px 1px 3px 1px rgba(0, 0, 0, 0.15);\n",
              "      filter: drop-shadow(0px 1px 2px rgba(0, 0, 0, 0.3));\n",
              "      fill: #FFFFFF;\n",
              "    }\n",
              "  </style>\n",
              "\n",
              "      <script>\n",
              "        const buttonEl =\n",
              "          document.querySelector('#df-f2e310d4-b5c7-4b1f-8040-6ffde16bb93e button.colab-df-convert');\n",
              "        buttonEl.style.display =\n",
              "          google.colab.kernel.accessAllowed ? 'block' : 'none';\n",
              "\n",
              "        async function convertToInteractive(key) {\n",
              "          const element = document.querySelector('#df-f2e310d4-b5c7-4b1f-8040-6ffde16bb93e');\n",
              "          const dataTable =\n",
              "            await google.colab.kernel.invokeFunction('convertToInteractive',\n",
              "                                                     [key], {});\n",
              "          if (!dataTable) return;\n",
              "\n",
              "          const docLinkHtml = 'Like what you see? Visit the ' +\n",
              "            '<a target=\"_blank\" href=https://colab.research.google.com/notebooks/data_table.ipynb>data table notebook</a>'\n",
              "            + ' to learn more about interactive tables.';\n",
              "          element.innerHTML = '';\n",
              "          dataTable['output_type'] = 'display_data';\n",
              "          await google.colab.output.renderOutput(dataTable, element);\n",
              "          const docLink = document.createElement('div');\n",
              "          docLink.innerHTML = docLinkHtml;\n",
              "          element.appendChild(docLink);\n",
              "        }\n",
              "      </script>\n",
              "    </div>\n",
              "  </div>\n",
              "  "
            ]
          },
          "metadata": {},
          "execution_count": 94
        }
      ]
    },
    {
      "cell_type": "markdown",
      "source": [
        "we notice that released_data column has name of country beside date \n",
        "\n",
        "so we should split it "
      ],
      "metadata": {
        "id": "mAIvK6KnVwK3"
      }
    },
    {
      "cell_type": "code",
      "source": [
        "df[['release_date' , 'country_release']] = df['released_date'].str.split('(', expand=True)\n",
        "df.head()"
      ],
      "metadata": {
        "colab": {
          "base_uri": "https://localhost:8080/",
          "height": 426
        },
        "id": "QKo3FHJ1Vbr-",
        "outputId": "a4b03022-5c04-4582-8310-70f095487a1c"
      },
      "execution_count": 95,
      "outputs": [
        {
          "output_type": "execute_result",
          "data": {
            "text/plain": [
              "                                         mov_name mov_rating  mov_genre  \\\n",
              "0                                     The Shining          R      Drama   \n",
              "1                                 The Blue Lagoon          R  Adventure   \n",
              "2  Star Wars: Episode V - The Empire Strikes Back         PG     Action   \n",
              "3                                       Airplane!         PG     Comedy   \n",
              "4                                      Caddyshack          R     Comedy   \n",
              "\n",
              "   released_year                  released_date  imdb_usr_score  usr_votes  \\\n",
              "0           1980  June 13, 1980 (United States)             8.4   927000.0   \n",
              "1           1980   July 2, 1980 (United States)             5.8    65000.0   \n",
              "2           1980  June 20, 1980 (United States)             8.7  1200000.0   \n",
              "3           1980   July 2, 1980 (United States)             7.7   221000.0   \n",
              "4           1980  July 25, 1980 (United States)             7.3   108000.0   \n",
              "\n",
              "     director_name              writer_name       star_name  country_origin  \\\n",
              "0  Stanley Kubrick             Stephen King  Jack Nicholson  United Kingdom   \n",
              "1   Randal Kleiser  Henry De Vere Stacpoole  Brooke Shields   United States   \n",
              "2   Irvin Kershner           Leigh Brackett     Mark Hamill   United States   \n",
              "3     Jim Abrahams             Jim Abrahams     Robert Hays   United States   \n",
              "4     Harold Ramis       Brian Doyle-Murray     Chevy Chase   United States   \n",
              "\n",
              "   mov_budget    mov_gross        prod_company  mov_runtime    release_date  \\\n",
              "0  19000000.0   46998772.0        Warner Bros.        146.0  June 13, 1980    \n",
              "1   4500000.0   58853106.0   Columbia Pictures        104.0   July 2, 1980    \n",
              "2  18000000.0  538375067.0           Lucasfilm        124.0  June 20, 1980    \n",
              "3   3500000.0   83453539.0  Paramount Pictures         88.0   July 2, 1980    \n",
              "4   6000000.0   39846344.0      Orion Pictures         98.0  July 25, 1980    \n",
              "\n",
              "  country_release  \n",
              "0  United States)  \n",
              "1  United States)  \n",
              "2  United States)  \n",
              "3  United States)  \n",
              "4  United States)  "
            ],
            "text/html": [
              "\n",
              "  <div id=\"df-bb87326e-6ebb-41ae-9628-e5319b0778da\">\n",
              "    <div class=\"colab-df-container\">\n",
              "      <div>\n",
              "<style scoped>\n",
              "    .dataframe tbody tr th:only-of-type {\n",
              "        vertical-align: middle;\n",
              "    }\n",
              "\n",
              "    .dataframe tbody tr th {\n",
              "        vertical-align: top;\n",
              "    }\n",
              "\n",
              "    .dataframe thead th {\n",
              "        text-align: right;\n",
              "    }\n",
              "</style>\n",
              "<table border=\"1\" class=\"dataframe\">\n",
              "  <thead>\n",
              "    <tr style=\"text-align: right;\">\n",
              "      <th></th>\n",
              "      <th>mov_name</th>\n",
              "      <th>mov_rating</th>\n",
              "      <th>mov_genre</th>\n",
              "      <th>released_year</th>\n",
              "      <th>released_date</th>\n",
              "      <th>imdb_usr_score</th>\n",
              "      <th>usr_votes</th>\n",
              "      <th>director_name</th>\n",
              "      <th>writer_name</th>\n",
              "      <th>star_name</th>\n",
              "      <th>country_origin</th>\n",
              "      <th>mov_budget</th>\n",
              "      <th>mov_gross</th>\n",
              "      <th>prod_company</th>\n",
              "      <th>mov_runtime</th>\n",
              "      <th>release_date</th>\n",
              "      <th>country_release</th>\n",
              "    </tr>\n",
              "  </thead>\n",
              "  <tbody>\n",
              "    <tr>\n",
              "      <th>0</th>\n",
              "      <td>The Shining</td>\n",
              "      <td>R</td>\n",
              "      <td>Drama</td>\n",
              "      <td>1980</td>\n",
              "      <td>June 13, 1980 (United States)</td>\n",
              "      <td>8.4</td>\n",
              "      <td>927000.0</td>\n",
              "      <td>Stanley Kubrick</td>\n",
              "      <td>Stephen King</td>\n",
              "      <td>Jack Nicholson</td>\n",
              "      <td>United Kingdom</td>\n",
              "      <td>19000000.0</td>\n",
              "      <td>46998772.0</td>\n",
              "      <td>Warner Bros.</td>\n",
              "      <td>146.0</td>\n",
              "      <td>June 13, 1980</td>\n",
              "      <td>United States)</td>\n",
              "    </tr>\n",
              "    <tr>\n",
              "      <th>1</th>\n",
              "      <td>The Blue Lagoon</td>\n",
              "      <td>R</td>\n",
              "      <td>Adventure</td>\n",
              "      <td>1980</td>\n",
              "      <td>July 2, 1980 (United States)</td>\n",
              "      <td>5.8</td>\n",
              "      <td>65000.0</td>\n",
              "      <td>Randal Kleiser</td>\n",
              "      <td>Henry De Vere Stacpoole</td>\n",
              "      <td>Brooke Shields</td>\n",
              "      <td>United States</td>\n",
              "      <td>4500000.0</td>\n",
              "      <td>58853106.0</td>\n",
              "      <td>Columbia Pictures</td>\n",
              "      <td>104.0</td>\n",
              "      <td>July 2, 1980</td>\n",
              "      <td>United States)</td>\n",
              "    </tr>\n",
              "    <tr>\n",
              "      <th>2</th>\n",
              "      <td>Star Wars: Episode V - The Empire Strikes Back</td>\n",
              "      <td>PG</td>\n",
              "      <td>Action</td>\n",
              "      <td>1980</td>\n",
              "      <td>June 20, 1980 (United States)</td>\n",
              "      <td>8.7</td>\n",
              "      <td>1200000.0</td>\n",
              "      <td>Irvin Kershner</td>\n",
              "      <td>Leigh Brackett</td>\n",
              "      <td>Mark Hamill</td>\n",
              "      <td>United States</td>\n",
              "      <td>18000000.0</td>\n",
              "      <td>538375067.0</td>\n",
              "      <td>Lucasfilm</td>\n",
              "      <td>124.0</td>\n",
              "      <td>June 20, 1980</td>\n",
              "      <td>United States)</td>\n",
              "    </tr>\n",
              "    <tr>\n",
              "      <th>3</th>\n",
              "      <td>Airplane!</td>\n",
              "      <td>PG</td>\n",
              "      <td>Comedy</td>\n",
              "      <td>1980</td>\n",
              "      <td>July 2, 1980 (United States)</td>\n",
              "      <td>7.7</td>\n",
              "      <td>221000.0</td>\n",
              "      <td>Jim Abrahams</td>\n",
              "      <td>Jim Abrahams</td>\n",
              "      <td>Robert Hays</td>\n",
              "      <td>United States</td>\n",
              "      <td>3500000.0</td>\n",
              "      <td>83453539.0</td>\n",
              "      <td>Paramount Pictures</td>\n",
              "      <td>88.0</td>\n",
              "      <td>July 2, 1980</td>\n",
              "      <td>United States)</td>\n",
              "    </tr>\n",
              "    <tr>\n",
              "      <th>4</th>\n",
              "      <td>Caddyshack</td>\n",
              "      <td>R</td>\n",
              "      <td>Comedy</td>\n",
              "      <td>1980</td>\n",
              "      <td>July 25, 1980 (United States)</td>\n",
              "      <td>7.3</td>\n",
              "      <td>108000.0</td>\n",
              "      <td>Harold Ramis</td>\n",
              "      <td>Brian Doyle-Murray</td>\n",
              "      <td>Chevy Chase</td>\n",
              "      <td>United States</td>\n",
              "      <td>6000000.0</td>\n",
              "      <td>39846344.0</td>\n",
              "      <td>Orion Pictures</td>\n",
              "      <td>98.0</td>\n",
              "      <td>July 25, 1980</td>\n",
              "      <td>United States)</td>\n",
              "    </tr>\n",
              "  </tbody>\n",
              "</table>\n",
              "</div>\n",
              "      <button class=\"colab-df-convert\" onclick=\"convertToInteractive('df-bb87326e-6ebb-41ae-9628-e5319b0778da')\"\n",
              "              title=\"Convert this dataframe to an interactive table.\"\n",
              "              style=\"display:none;\">\n",
              "        \n",
              "  <svg xmlns=\"http://www.w3.org/2000/svg\" height=\"24px\"viewBox=\"0 0 24 24\"\n",
              "       width=\"24px\">\n",
              "    <path d=\"M0 0h24v24H0V0z\" fill=\"none\"/>\n",
              "    <path d=\"M18.56 5.44l.94 2.06.94-2.06 2.06-.94-2.06-.94-.94-2.06-.94 2.06-2.06.94zm-11 1L8.5 8.5l.94-2.06 2.06-.94-2.06-.94L8.5 2.5l-.94 2.06-2.06.94zm10 10l.94 2.06.94-2.06 2.06-.94-2.06-.94-.94-2.06-.94 2.06-2.06.94z\"/><path d=\"M17.41 7.96l-1.37-1.37c-.4-.4-.92-.59-1.43-.59-.52 0-1.04.2-1.43.59L10.3 9.45l-7.72 7.72c-.78.78-.78 2.05 0 2.83L4 21.41c.39.39.9.59 1.41.59.51 0 1.02-.2 1.41-.59l7.78-7.78 2.81-2.81c.8-.78.8-2.07 0-2.86zM5.41 20L4 18.59l7.72-7.72 1.47 1.35L5.41 20z\"/>\n",
              "  </svg>\n",
              "      </button>\n",
              "      \n",
              "  <style>\n",
              "    .colab-df-container {\n",
              "      display:flex;\n",
              "      flex-wrap:wrap;\n",
              "      gap: 12px;\n",
              "    }\n",
              "\n",
              "    .colab-df-convert {\n",
              "      background-color: #E8F0FE;\n",
              "      border: none;\n",
              "      border-radius: 50%;\n",
              "      cursor: pointer;\n",
              "      display: none;\n",
              "      fill: #1967D2;\n",
              "      height: 32px;\n",
              "      padding: 0 0 0 0;\n",
              "      width: 32px;\n",
              "    }\n",
              "\n",
              "    .colab-df-convert:hover {\n",
              "      background-color: #E2EBFA;\n",
              "      box-shadow: 0px 1px 2px rgba(60, 64, 67, 0.3), 0px 1px 3px 1px rgba(60, 64, 67, 0.15);\n",
              "      fill: #174EA6;\n",
              "    }\n",
              "\n",
              "    [theme=dark] .colab-df-convert {\n",
              "      background-color: #3B4455;\n",
              "      fill: #D2E3FC;\n",
              "    }\n",
              "\n",
              "    [theme=dark] .colab-df-convert:hover {\n",
              "      background-color: #434B5C;\n",
              "      box-shadow: 0px 1px 3px 1px rgba(0, 0, 0, 0.15);\n",
              "      filter: drop-shadow(0px 1px 2px rgba(0, 0, 0, 0.3));\n",
              "      fill: #FFFFFF;\n",
              "    }\n",
              "  </style>\n",
              "\n",
              "      <script>\n",
              "        const buttonEl =\n",
              "          document.querySelector('#df-bb87326e-6ebb-41ae-9628-e5319b0778da button.colab-df-convert');\n",
              "        buttonEl.style.display =\n",
              "          google.colab.kernel.accessAllowed ? 'block' : 'none';\n",
              "\n",
              "        async function convertToInteractive(key) {\n",
              "          const element = document.querySelector('#df-bb87326e-6ebb-41ae-9628-e5319b0778da');\n",
              "          const dataTable =\n",
              "            await google.colab.kernel.invokeFunction('convertToInteractive',\n",
              "                                                     [key], {});\n",
              "          if (!dataTable) return;\n",
              "\n",
              "          const docLinkHtml = 'Like what you see? Visit the ' +\n",
              "            '<a target=\"_blank\" href=https://colab.research.google.com/notebooks/data_table.ipynb>data table notebook</a>'\n",
              "            + ' to learn more about interactive tables.';\n",
              "          element.innerHTML = '';\n",
              "          dataTable['output_type'] = 'display_data';\n",
              "          await google.colab.output.renderOutput(dataTable, element);\n",
              "          const docLink = document.createElement('div');\n",
              "          docLink.innerHTML = docLinkHtml;\n",
              "          element.appendChild(docLink);\n",
              "        }\n",
              "      </script>\n",
              "    </div>\n",
              "  </div>\n",
              "  "
            ]
          },
          "metadata": {},
          "execution_count": 95
        }
      ]
    },
    {
      "cell_type": "markdown",
      "source": [
        "remove ')' from country_released"
      ],
      "metadata": {
        "id": "3q6fno47aDh0"
      }
    },
    {
      "cell_type": "code",
      "source": [
        "df['country_release'] = df['country_release'].str.replace(')',' ')\n",
        "df[['country_release']]"
      ],
      "metadata": {
        "colab": {
          "base_uri": "https://localhost:8080/",
          "height": 478
        },
        "id": "ZftuUUQdaJQx",
        "outputId": "51cb61a8-846f-49fa-9c74-0f88e93c8cbb"
      },
      "execution_count": 96,
      "outputs": [
        {
          "output_type": "stream",
          "name": "stderr",
          "text": [
            "/usr/local/lib/python3.7/dist-packages/ipykernel_launcher.py:1: FutureWarning: The default value of regex will change from True to False in a future version. In addition, single character regular expressions will *not* be treated as literal strings when regex=True.\n",
            "  \"\"\"Entry point for launching an IPython kernel.\n"
          ]
        },
        {
          "output_type": "execute_result",
          "data": {
            "text/plain": [
              "     country_release\n",
              "0     United States \n",
              "1     United States \n",
              "2     United States \n",
              "3     United States \n",
              "4     United States \n",
              "...              ...\n",
              "7656  United States \n",
              "7657  United States \n",
              "7658  United States \n",
              "7659  United States \n",
              "7663  United States \n",
              "\n",
              "[7530 rows x 1 columns]"
            ],
            "text/html": [
              "\n",
              "  <div id=\"df-de978604-88de-4d75-9043-34cf9ea98de5\">\n",
              "    <div class=\"colab-df-container\">\n",
              "      <div>\n",
              "<style scoped>\n",
              "    .dataframe tbody tr th:only-of-type {\n",
              "        vertical-align: middle;\n",
              "    }\n",
              "\n",
              "    .dataframe tbody tr th {\n",
              "        vertical-align: top;\n",
              "    }\n",
              "\n",
              "    .dataframe thead th {\n",
              "        text-align: right;\n",
              "    }\n",
              "</style>\n",
              "<table border=\"1\" class=\"dataframe\">\n",
              "  <thead>\n",
              "    <tr style=\"text-align: right;\">\n",
              "      <th></th>\n",
              "      <th>country_release</th>\n",
              "    </tr>\n",
              "  </thead>\n",
              "  <tbody>\n",
              "    <tr>\n",
              "      <th>0</th>\n",
              "      <td>United States</td>\n",
              "    </tr>\n",
              "    <tr>\n",
              "      <th>1</th>\n",
              "      <td>United States</td>\n",
              "    </tr>\n",
              "    <tr>\n",
              "      <th>2</th>\n",
              "      <td>United States</td>\n",
              "    </tr>\n",
              "    <tr>\n",
              "      <th>3</th>\n",
              "      <td>United States</td>\n",
              "    </tr>\n",
              "    <tr>\n",
              "      <th>4</th>\n",
              "      <td>United States</td>\n",
              "    </tr>\n",
              "    <tr>\n",
              "      <th>...</th>\n",
              "      <td>...</td>\n",
              "    </tr>\n",
              "    <tr>\n",
              "      <th>7656</th>\n",
              "      <td>United States</td>\n",
              "    </tr>\n",
              "    <tr>\n",
              "      <th>7657</th>\n",
              "      <td>United States</td>\n",
              "    </tr>\n",
              "    <tr>\n",
              "      <th>7658</th>\n",
              "      <td>United States</td>\n",
              "    </tr>\n",
              "    <tr>\n",
              "      <th>7659</th>\n",
              "      <td>United States</td>\n",
              "    </tr>\n",
              "    <tr>\n",
              "      <th>7663</th>\n",
              "      <td>United States</td>\n",
              "    </tr>\n",
              "  </tbody>\n",
              "</table>\n",
              "<p>7530 rows × 1 columns</p>\n",
              "</div>\n",
              "      <button class=\"colab-df-convert\" onclick=\"convertToInteractive('df-de978604-88de-4d75-9043-34cf9ea98de5')\"\n",
              "              title=\"Convert this dataframe to an interactive table.\"\n",
              "              style=\"display:none;\">\n",
              "        \n",
              "  <svg xmlns=\"http://www.w3.org/2000/svg\" height=\"24px\"viewBox=\"0 0 24 24\"\n",
              "       width=\"24px\">\n",
              "    <path d=\"M0 0h24v24H0V0z\" fill=\"none\"/>\n",
              "    <path d=\"M18.56 5.44l.94 2.06.94-2.06 2.06-.94-2.06-.94-.94-2.06-.94 2.06-2.06.94zm-11 1L8.5 8.5l.94-2.06 2.06-.94-2.06-.94L8.5 2.5l-.94 2.06-2.06.94zm10 10l.94 2.06.94-2.06 2.06-.94-2.06-.94-.94-2.06-.94 2.06-2.06.94z\"/><path d=\"M17.41 7.96l-1.37-1.37c-.4-.4-.92-.59-1.43-.59-.52 0-1.04.2-1.43.59L10.3 9.45l-7.72 7.72c-.78.78-.78 2.05 0 2.83L4 21.41c.39.39.9.59 1.41.59.51 0 1.02-.2 1.41-.59l7.78-7.78 2.81-2.81c.8-.78.8-2.07 0-2.86zM5.41 20L4 18.59l7.72-7.72 1.47 1.35L5.41 20z\"/>\n",
              "  </svg>\n",
              "      </button>\n",
              "      \n",
              "  <style>\n",
              "    .colab-df-container {\n",
              "      display:flex;\n",
              "      flex-wrap:wrap;\n",
              "      gap: 12px;\n",
              "    }\n",
              "\n",
              "    .colab-df-convert {\n",
              "      background-color: #E8F0FE;\n",
              "      border: none;\n",
              "      border-radius: 50%;\n",
              "      cursor: pointer;\n",
              "      display: none;\n",
              "      fill: #1967D2;\n",
              "      height: 32px;\n",
              "      padding: 0 0 0 0;\n",
              "      width: 32px;\n",
              "    }\n",
              "\n",
              "    .colab-df-convert:hover {\n",
              "      background-color: #E2EBFA;\n",
              "      box-shadow: 0px 1px 2px rgba(60, 64, 67, 0.3), 0px 1px 3px 1px rgba(60, 64, 67, 0.15);\n",
              "      fill: #174EA6;\n",
              "    }\n",
              "\n",
              "    [theme=dark] .colab-df-convert {\n",
              "      background-color: #3B4455;\n",
              "      fill: #D2E3FC;\n",
              "    }\n",
              "\n",
              "    [theme=dark] .colab-df-convert:hover {\n",
              "      background-color: #434B5C;\n",
              "      box-shadow: 0px 1px 3px 1px rgba(0, 0, 0, 0.15);\n",
              "      filter: drop-shadow(0px 1px 2px rgba(0, 0, 0, 0.3));\n",
              "      fill: #FFFFFF;\n",
              "    }\n",
              "  </style>\n",
              "\n",
              "      <script>\n",
              "        const buttonEl =\n",
              "          document.querySelector('#df-de978604-88de-4d75-9043-34cf9ea98de5 button.colab-df-convert');\n",
              "        buttonEl.style.display =\n",
              "          google.colab.kernel.accessAllowed ? 'block' : 'none';\n",
              "\n",
              "        async function convertToInteractive(key) {\n",
              "          const element = document.querySelector('#df-de978604-88de-4d75-9043-34cf9ea98de5');\n",
              "          const dataTable =\n",
              "            await google.colab.kernel.invokeFunction('convertToInteractive',\n",
              "                                                     [key], {});\n",
              "          if (!dataTable) return;\n",
              "\n",
              "          const docLinkHtml = 'Like what you see? Visit the ' +\n",
              "            '<a target=\"_blank\" href=https://colab.research.google.com/notebooks/data_table.ipynb>data table notebook</a>'\n",
              "            + ' to learn more about interactive tables.';\n",
              "          element.innerHTML = '';\n",
              "          dataTable['output_type'] = 'display_data';\n",
              "          await google.colab.output.renderOutput(dataTable, element);\n",
              "          const docLink = document.createElement('div');\n",
              "          docLink.innerHTML = docLinkHtml;\n",
              "          element.appendChild(docLink);\n",
              "        }\n",
              "      </script>\n",
              "    </div>\n",
              "  </div>\n",
              "  "
            ]
          },
          "metadata": {},
          "execution_count": 96
        }
      ]
    },
    {
      "cell_type": "markdown",
      "source": [
        "let's drop column released_date"
      ],
      "metadata": {
        "id": "Jm3uB2J8ZaiV"
      }
    },
    {
      "cell_type": "markdown",
      "source": [
        "df.drop(['released_date'] , axis=1 , inplace=True)\n",
        "df.dtypes"
      ],
      "metadata": {
        "id": "DkAJMeXxVboE"
      }
    },
    {
      "cell_type": "markdown",
      "source": [
        "let's extract year of release to know what is the different between columns"
      ],
      "metadata": {
        "id": "uFVRwxcTb0vS"
      }
    },
    {
      "cell_type": "code",
      "source": [
        "df['year_of_release'] = df['release_date'].str[-5:]\n",
        "#convert data type of year_date to Int\n",
        "df['year_of_release']=df['year_of_release'].astype('int64')\n",
        "df[['year_of_release' , 'released_year']].value_counts()"
      ],
      "metadata": {
        "colab": {
          "base_uri": "https://localhost:8080/"
        },
        "id": "blRr2LI4VbkR",
        "outputId": "69036b83-cd3a-4b2b-e300-9b55302bb4dc"
      },
      "execution_count": 98,
      "outputs": [
        {
          "output_type": "execute_result",
          "data": {
            "text/plain": [
              "year_of_release  released_year\n",
              "2019             2019             191\n",
              "1995             1995             171\n",
              "2018             2018             170\n",
              "2008             2008             169\n",
              "2003             2003             169\n",
              "                                 ... \n",
              "2013             2009               1\n",
              "1988             1986               1\n",
              "1996             1993               1\n",
              "2014             1996               1\n",
              "2001             1991               1\n",
              "Length: 151, dtype: int64"
            ]
          },
          "metadata": {},
          "execution_count": 98
        }
      ]
    },
    {
      "cell_type": "markdown",
      "source": [
        "there is little differenct between two values \n",
        "so we can depend on year_of_release more than 'released_year'\n",
        "\n",
        "let's drop released_year column"
      ],
      "metadata": {
        "id": "WljD93M3Qj_W"
      }
    },
    {
      "cell_type": "code",
      "source": [
        "df.drop(['released_year'] , axis = 1 , inplace=True)"
      ],
      "metadata": {
        "id": "9H56O8c6RoDA"
      },
      "execution_count": 99,
      "outputs": []
    },
    {
      "cell_type": "code",
      "source": [
        "df.head()"
      ],
      "metadata": {
        "colab": {
          "base_uri": "https://localhost:8080/",
          "height": 426
        },
        "id": "S1-uqZ7UWxLS",
        "outputId": "d9f03fe5-befc-46a4-c29d-f0345d328b8e"
      },
      "execution_count": 100,
      "outputs": [
        {
          "output_type": "execute_result",
          "data": {
            "text/plain": [
              "                                         mov_name mov_rating  mov_genre  \\\n",
              "0                                     The Shining          R      Drama   \n",
              "1                                 The Blue Lagoon          R  Adventure   \n",
              "2  Star Wars: Episode V - The Empire Strikes Back         PG     Action   \n",
              "3                                       Airplane!         PG     Comedy   \n",
              "4                                      Caddyshack          R     Comedy   \n",
              "\n",
              "                   released_date  imdb_usr_score  usr_votes    director_name  \\\n",
              "0  June 13, 1980 (United States)             8.4   927000.0  Stanley Kubrick   \n",
              "1   July 2, 1980 (United States)             5.8    65000.0   Randal Kleiser   \n",
              "2  June 20, 1980 (United States)             8.7  1200000.0   Irvin Kershner   \n",
              "3   July 2, 1980 (United States)             7.7   221000.0     Jim Abrahams   \n",
              "4  July 25, 1980 (United States)             7.3   108000.0     Harold Ramis   \n",
              "\n",
              "               writer_name       star_name  country_origin  mov_budget  \\\n",
              "0             Stephen King  Jack Nicholson  United Kingdom  19000000.0   \n",
              "1  Henry De Vere Stacpoole  Brooke Shields   United States   4500000.0   \n",
              "2           Leigh Brackett     Mark Hamill   United States  18000000.0   \n",
              "3             Jim Abrahams     Robert Hays   United States   3500000.0   \n",
              "4       Brian Doyle-Murray     Chevy Chase   United States   6000000.0   \n",
              "\n",
              "     mov_gross        prod_company  mov_runtime    release_date  \\\n",
              "0   46998772.0        Warner Bros.        146.0  June 13, 1980    \n",
              "1   58853106.0   Columbia Pictures        104.0   July 2, 1980    \n",
              "2  538375067.0           Lucasfilm        124.0  June 20, 1980    \n",
              "3   83453539.0  Paramount Pictures         88.0   July 2, 1980    \n",
              "4   39846344.0      Orion Pictures         98.0  July 25, 1980    \n",
              "\n",
              "  country_release  year_of_release  \n",
              "0  United States              1980  \n",
              "1  United States              1980  \n",
              "2  United States              1980  \n",
              "3  United States              1980  \n",
              "4  United States              1980  "
            ],
            "text/html": [
              "\n",
              "  <div id=\"df-94ddec30-c7a6-4a02-9352-5ada0d697727\">\n",
              "    <div class=\"colab-df-container\">\n",
              "      <div>\n",
              "<style scoped>\n",
              "    .dataframe tbody tr th:only-of-type {\n",
              "        vertical-align: middle;\n",
              "    }\n",
              "\n",
              "    .dataframe tbody tr th {\n",
              "        vertical-align: top;\n",
              "    }\n",
              "\n",
              "    .dataframe thead th {\n",
              "        text-align: right;\n",
              "    }\n",
              "</style>\n",
              "<table border=\"1\" class=\"dataframe\">\n",
              "  <thead>\n",
              "    <tr style=\"text-align: right;\">\n",
              "      <th></th>\n",
              "      <th>mov_name</th>\n",
              "      <th>mov_rating</th>\n",
              "      <th>mov_genre</th>\n",
              "      <th>released_date</th>\n",
              "      <th>imdb_usr_score</th>\n",
              "      <th>usr_votes</th>\n",
              "      <th>director_name</th>\n",
              "      <th>writer_name</th>\n",
              "      <th>star_name</th>\n",
              "      <th>country_origin</th>\n",
              "      <th>mov_budget</th>\n",
              "      <th>mov_gross</th>\n",
              "      <th>prod_company</th>\n",
              "      <th>mov_runtime</th>\n",
              "      <th>release_date</th>\n",
              "      <th>country_release</th>\n",
              "      <th>year_of_release</th>\n",
              "    </tr>\n",
              "  </thead>\n",
              "  <tbody>\n",
              "    <tr>\n",
              "      <th>0</th>\n",
              "      <td>The Shining</td>\n",
              "      <td>R</td>\n",
              "      <td>Drama</td>\n",
              "      <td>June 13, 1980 (United States)</td>\n",
              "      <td>8.4</td>\n",
              "      <td>927000.0</td>\n",
              "      <td>Stanley Kubrick</td>\n",
              "      <td>Stephen King</td>\n",
              "      <td>Jack Nicholson</td>\n",
              "      <td>United Kingdom</td>\n",
              "      <td>19000000.0</td>\n",
              "      <td>46998772.0</td>\n",
              "      <td>Warner Bros.</td>\n",
              "      <td>146.0</td>\n",
              "      <td>June 13, 1980</td>\n",
              "      <td>United States</td>\n",
              "      <td>1980</td>\n",
              "    </tr>\n",
              "    <tr>\n",
              "      <th>1</th>\n",
              "      <td>The Blue Lagoon</td>\n",
              "      <td>R</td>\n",
              "      <td>Adventure</td>\n",
              "      <td>July 2, 1980 (United States)</td>\n",
              "      <td>5.8</td>\n",
              "      <td>65000.0</td>\n",
              "      <td>Randal Kleiser</td>\n",
              "      <td>Henry De Vere Stacpoole</td>\n",
              "      <td>Brooke Shields</td>\n",
              "      <td>United States</td>\n",
              "      <td>4500000.0</td>\n",
              "      <td>58853106.0</td>\n",
              "      <td>Columbia Pictures</td>\n",
              "      <td>104.0</td>\n",
              "      <td>July 2, 1980</td>\n",
              "      <td>United States</td>\n",
              "      <td>1980</td>\n",
              "    </tr>\n",
              "    <tr>\n",
              "      <th>2</th>\n",
              "      <td>Star Wars: Episode V - The Empire Strikes Back</td>\n",
              "      <td>PG</td>\n",
              "      <td>Action</td>\n",
              "      <td>June 20, 1980 (United States)</td>\n",
              "      <td>8.7</td>\n",
              "      <td>1200000.0</td>\n",
              "      <td>Irvin Kershner</td>\n",
              "      <td>Leigh Brackett</td>\n",
              "      <td>Mark Hamill</td>\n",
              "      <td>United States</td>\n",
              "      <td>18000000.0</td>\n",
              "      <td>538375067.0</td>\n",
              "      <td>Lucasfilm</td>\n",
              "      <td>124.0</td>\n",
              "      <td>June 20, 1980</td>\n",
              "      <td>United States</td>\n",
              "      <td>1980</td>\n",
              "    </tr>\n",
              "    <tr>\n",
              "      <th>3</th>\n",
              "      <td>Airplane!</td>\n",
              "      <td>PG</td>\n",
              "      <td>Comedy</td>\n",
              "      <td>July 2, 1980 (United States)</td>\n",
              "      <td>7.7</td>\n",
              "      <td>221000.0</td>\n",
              "      <td>Jim Abrahams</td>\n",
              "      <td>Jim Abrahams</td>\n",
              "      <td>Robert Hays</td>\n",
              "      <td>United States</td>\n",
              "      <td>3500000.0</td>\n",
              "      <td>83453539.0</td>\n",
              "      <td>Paramount Pictures</td>\n",
              "      <td>88.0</td>\n",
              "      <td>July 2, 1980</td>\n",
              "      <td>United States</td>\n",
              "      <td>1980</td>\n",
              "    </tr>\n",
              "    <tr>\n",
              "      <th>4</th>\n",
              "      <td>Caddyshack</td>\n",
              "      <td>R</td>\n",
              "      <td>Comedy</td>\n",
              "      <td>July 25, 1980 (United States)</td>\n",
              "      <td>7.3</td>\n",
              "      <td>108000.0</td>\n",
              "      <td>Harold Ramis</td>\n",
              "      <td>Brian Doyle-Murray</td>\n",
              "      <td>Chevy Chase</td>\n",
              "      <td>United States</td>\n",
              "      <td>6000000.0</td>\n",
              "      <td>39846344.0</td>\n",
              "      <td>Orion Pictures</td>\n",
              "      <td>98.0</td>\n",
              "      <td>July 25, 1980</td>\n",
              "      <td>United States</td>\n",
              "      <td>1980</td>\n",
              "    </tr>\n",
              "  </tbody>\n",
              "</table>\n",
              "</div>\n",
              "      <button class=\"colab-df-convert\" onclick=\"convertToInteractive('df-94ddec30-c7a6-4a02-9352-5ada0d697727')\"\n",
              "              title=\"Convert this dataframe to an interactive table.\"\n",
              "              style=\"display:none;\">\n",
              "        \n",
              "  <svg xmlns=\"http://www.w3.org/2000/svg\" height=\"24px\"viewBox=\"0 0 24 24\"\n",
              "       width=\"24px\">\n",
              "    <path d=\"M0 0h24v24H0V0z\" fill=\"none\"/>\n",
              "    <path d=\"M18.56 5.44l.94 2.06.94-2.06 2.06-.94-2.06-.94-.94-2.06-.94 2.06-2.06.94zm-11 1L8.5 8.5l.94-2.06 2.06-.94-2.06-.94L8.5 2.5l-.94 2.06-2.06.94zm10 10l.94 2.06.94-2.06 2.06-.94-2.06-.94-.94-2.06-.94 2.06-2.06.94z\"/><path d=\"M17.41 7.96l-1.37-1.37c-.4-.4-.92-.59-1.43-.59-.52 0-1.04.2-1.43.59L10.3 9.45l-7.72 7.72c-.78.78-.78 2.05 0 2.83L4 21.41c.39.39.9.59 1.41.59.51 0 1.02-.2 1.41-.59l7.78-7.78 2.81-2.81c.8-.78.8-2.07 0-2.86zM5.41 20L4 18.59l7.72-7.72 1.47 1.35L5.41 20z\"/>\n",
              "  </svg>\n",
              "      </button>\n",
              "      \n",
              "  <style>\n",
              "    .colab-df-container {\n",
              "      display:flex;\n",
              "      flex-wrap:wrap;\n",
              "      gap: 12px;\n",
              "    }\n",
              "\n",
              "    .colab-df-convert {\n",
              "      background-color: #E8F0FE;\n",
              "      border: none;\n",
              "      border-radius: 50%;\n",
              "      cursor: pointer;\n",
              "      display: none;\n",
              "      fill: #1967D2;\n",
              "      height: 32px;\n",
              "      padding: 0 0 0 0;\n",
              "      width: 32px;\n",
              "    }\n",
              "\n",
              "    .colab-df-convert:hover {\n",
              "      background-color: #E2EBFA;\n",
              "      box-shadow: 0px 1px 2px rgba(60, 64, 67, 0.3), 0px 1px 3px 1px rgba(60, 64, 67, 0.15);\n",
              "      fill: #174EA6;\n",
              "    }\n",
              "\n",
              "    [theme=dark] .colab-df-convert {\n",
              "      background-color: #3B4455;\n",
              "      fill: #D2E3FC;\n",
              "    }\n",
              "\n",
              "    [theme=dark] .colab-df-convert:hover {\n",
              "      background-color: #434B5C;\n",
              "      box-shadow: 0px 1px 3px 1px rgba(0, 0, 0, 0.15);\n",
              "      filter: drop-shadow(0px 1px 2px rgba(0, 0, 0, 0.3));\n",
              "      fill: #FFFFFF;\n",
              "    }\n",
              "  </style>\n",
              "\n",
              "      <script>\n",
              "        const buttonEl =\n",
              "          document.querySelector('#df-94ddec30-c7a6-4a02-9352-5ada0d697727 button.colab-df-convert');\n",
              "        buttonEl.style.display =\n",
              "          google.colab.kernel.accessAllowed ? 'block' : 'none';\n",
              "\n",
              "        async function convertToInteractive(key) {\n",
              "          const element = document.querySelector('#df-94ddec30-c7a6-4a02-9352-5ada0d697727');\n",
              "          const dataTable =\n",
              "            await google.colab.kernel.invokeFunction('convertToInteractive',\n",
              "                                                     [key], {});\n",
              "          if (!dataTable) return;\n",
              "\n",
              "          const docLinkHtml = 'Like what you see? Visit the ' +\n",
              "            '<a target=\"_blank\" href=https://colab.research.google.com/notebooks/data_table.ipynb>data table notebook</a>'\n",
              "            + ' to learn more about interactive tables.';\n",
              "          element.innerHTML = '';\n",
              "          dataTable['output_type'] = 'display_data';\n",
              "          await google.colab.output.renderOutput(dataTable, element);\n",
              "          const docLink = document.createElement('div');\n",
              "          docLink.innerHTML = docLinkHtml;\n",
              "          element.appendChild(docLink);\n",
              "        }\n",
              "      </script>\n",
              "    </div>\n",
              "  </div>\n",
              "  "
            ]
          },
          "metadata": {},
          "execution_count": 100
        }
      ]
    },
    {
      "cell_type": "markdown",
      "source": [
        "edit data type of mov_budget , mov_gross  from 'float' to int because they have zero with decimal\n",
        "\n",
        "also usr_votes should be int"
      ],
      "metadata": {
        "id": "sGC5V2yRR5zc"
      }
    },
    {
      "cell_type": "code",
      "source": [
        "for col in ['mov_budget' , 'mov_gross' , 'usr_votes']:\n",
        "  df[col] = df[col].astype('int64')\n",
        "df.dtypes"
      ],
      "metadata": {
        "colab": {
          "base_uri": "https://localhost:8080/"
        },
        "id": "lMjGb0IZXRsm",
        "outputId": "d014ce34-d31b-407a-f2ec-6257ac348b19"
      },
      "execution_count": 101,
      "outputs": [
        {
          "output_type": "execute_result",
          "data": {
            "text/plain": [
              "mov_name            object\n",
              "mov_rating          object\n",
              "mov_genre           object\n",
              "released_date       object\n",
              "imdb_usr_score     float64\n",
              "usr_votes            int64\n",
              "director_name       object\n",
              "writer_name         object\n",
              "star_name           object\n",
              "country_origin      object\n",
              "mov_budget           int64\n",
              "mov_gross            int64\n",
              "prod_company        object\n",
              "mov_runtime        float64\n",
              "release_date        object\n",
              "country_release     object\n",
              "year_of_release      int64\n",
              "dtype: object"
            ]
          },
          "metadata": {},
          "execution_count": 101
        }
      ]
    },
    {
      "cell_type": "markdown",
      "source": [
        "rearrange columns in df "
      ],
      "metadata": {
        "id": "aLBI9UnByM1q"
      }
    },
    {
      "cell_type": "code",
      "source": [
        "df= df.reindex(columns = ['mov_name' , 'director_name' , 'writer_name' ,'star_name' ,'prod_company',\n",
        "                          'country_origin' , 'country_release' ,'release_date' , 'year_of_release',\n",
        "                          'mov_genre' , 'imdb_usr_score','usr_votes','mov_runtime',\n",
        "                          'mov_budget' , 'mov_gross'])\n",
        "df.head()"
      ],
      "metadata": {
        "colab": {
          "base_uri": "https://localhost:8080/",
          "height": 426
        },
        "id": "pBLkdbOmuomC",
        "outputId": "289af9b6-e496-4398-e849-47fce2a75acb"
      },
      "execution_count": 102,
      "outputs": [
        {
          "output_type": "execute_result",
          "data": {
            "text/plain": [
              "                                         mov_name    director_name  \\\n",
              "0                                     The Shining  Stanley Kubrick   \n",
              "1                                 The Blue Lagoon   Randal Kleiser   \n",
              "2  Star Wars: Episode V - The Empire Strikes Back   Irvin Kershner   \n",
              "3                                       Airplane!     Jim Abrahams   \n",
              "4                                      Caddyshack     Harold Ramis   \n",
              "\n",
              "               writer_name       star_name        prod_company  \\\n",
              "0             Stephen King  Jack Nicholson        Warner Bros.   \n",
              "1  Henry De Vere Stacpoole  Brooke Shields   Columbia Pictures   \n",
              "2           Leigh Brackett     Mark Hamill           Lucasfilm   \n",
              "3             Jim Abrahams     Robert Hays  Paramount Pictures   \n",
              "4       Brian Doyle-Murray     Chevy Chase      Orion Pictures   \n",
              "\n",
              "   country_origin country_release    release_date  year_of_release  mov_genre  \\\n",
              "0  United Kingdom  United States   June 13, 1980              1980      Drama   \n",
              "1   United States  United States    July 2, 1980              1980  Adventure   \n",
              "2   United States  United States   June 20, 1980              1980     Action   \n",
              "3   United States  United States    July 2, 1980              1980     Comedy   \n",
              "4   United States  United States   July 25, 1980              1980     Comedy   \n",
              "\n",
              "   imdb_usr_score  usr_votes  mov_runtime  mov_budget  mov_gross  \n",
              "0             8.4     927000        146.0    19000000   46998772  \n",
              "1             5.8      65000        104.0     4500000   58853106  \n",
              "2             8.7    1200000        124.0    18000000  538375067  \n",
              "3             7.7     221000         88.0     3500000   83453539  \n",
              "4             7.3     108000         98.0     6000000   39846344  "
            ],
            "text/html": [
              "\n",
              "  <div id=\"df-0ad24838-1478-4e4a-87da-b2d59a8b25f8\">\n",
              "    <div class=\"colab-df-container\">\n",
              "      <div>\n",
              "<style scoped>\n",
              "    .dataframe tbody tr th:only-of-type {\n",
              "        vertical-align: middle;\n",
              "    }\n",
              "\n",
              "    .dataframe tbody tr th {\n",
              "        vertical-align: top;\n",
              "    }\n",
              "\n",
              "    .dataframe thead th {\n",
              "        text-align: right;\n",
              "    }\n",
              "</style>\n",
              "<table border=\"1\" class=\"dataframe\">\n",
              "  <thead>\n",
              "    <tr style=\"text-align: right;\">\n",
              "      <th></th>\n",
              "      <th>mov_name</th>\n",
              "      <th>director_name</th>\n",
              "      <th>writer_name</th>\n",
              "      <th>star_name</th>\n",
              "      <th>prod_company</th>\n",
              "      <th>country_origin</th>\n",
              "      <th>country_release</th>\n",
              "      <th>release_date</th>\n",
              "      <th>year_of_release</th>\n",
              "      <th>mov_genre</th>\n",
              "      <th>imdb_usr_score</th>\n",
              "      <th>usr_votes</th>\n",
              "      <th>mov_runtime</th>\n",
              "      <th>mov_budget</th>\n",
              "      <th>mov_gross</th>\n",
              "    </tr>\n",
              "  </thead>\n",
              "  <tbody>\n",
              "    <tr>\n",
              "      <th>0</th>\n",
              "      <td>The Shining</td>\n",
              "      <td>Stanley Kubrick</td>\n",
              "      <td>Stephen King</td>\n",
              "      <td>Jack Nicholson</td>\n",
              "      <td>Warner Bros.</td>\n",
              "      <td>United Kingdom</td>\n",
              "      <td>United States</td>\n",
              "      <td>June 13, 1980</td>\n",
              "      <td>1980</td>\n",
              "      <td>Drama</td>\n",
              "      <td>8.4</td>\n",
              "      <td>927000</td>\n",
              "      <td>146.0</td>\n",
              "      <td>19000000</td>\n",
              "      <td>46998772</td>\n",
              "    </tr>\n",
              "    <tr>\n",
              "      <th>1</th>\n",
              "      <td>The Blue Lagoon</td>\n",
              "      <td>Randal Kleiser</td>\n",
              "      <td>Henry De Vere Stacpoole</td>\n",
              "      <td>Brooke Shields</td>\n",
              "      <td>Columbia Pictures</td>\n",
              "      <td>United States</td>\n",
              "      <td>United States</td>\n",
              "      <td>July 2, 1980</td>\n",
              "      <td>1980</td>\n",
              "      <td>Adventure</td>\n",
              "      <td>5.8</td>\n",
              "      <td>65000</td>\n",
              "      <td>104.0</td>\n",
              "      <td>4500000</td>\n",
              "      <td>58853106</td>\n",
              "    </tr>\n",
              "    <tr>\n",
              "      <th>2</th>\n",
              "      <td>Star Wars: Episode V - The Empire Strikes Back</td>\n",
              "      <td>Irvin Kershner</td>\n",
              "      <td>Leigh Brackett</td>\n",
              "      <td>Mark Hamill</td>\n",
              "      <td>Lucasfilm</td>\n",
              "      <td>United States</td>\n",
              "      <td>United States</td>\n",
              "      <td>June 20, 1980</td>\n",
              "      <td>1980</td>\n",
              "      <td>Action</td>\n",
              "      <td>8.7</td>\n",
              "      <td>1200000</td>\n",
              "      <td>124.0</td>\n",
              "      <td>18000000</td>\n",
              "      <td>538375067</td>\n",
              "    </tr>\n",
              "    <tr>\n",
              "      <th>3</th>\n",
              "      <td>Airplane!</td>\n",
              "      <td>Jim Abrahams</td>\n",
              "      <td>Jim Abrahams</td>\n",
              "      <td>Robert Hays</td>\n",
              "      <td>Paramount Pictures</td>\n",
              "      <td>United States</td>\n",
              "      <td>United States</td>\n",
              "      <td>July 2, 1980</td>\n",
              "      <td>1980</td>\n",
              "      <td>Comedy</td>\n",
              "      <td>7.7</td>\n",
              "      <td>221000</td>\n",
              "      <td>88.0</td>\n",
              "      <td>3500000</td>\n",
              "      <td>83453539</td>\n",
              "    </tr>\n",
              "    <tr>\n",
              "      <th>4</th>\n",
              "      <td>Caddyshack</td>\n",
              "      <td>Harold Ramis</td>\n",
              "      <td>Brian Doyle-Murray</td>\n",
              "      <td>Chevy Chase</td>\n",
              "      <td>Orion Pictures</td>\n",
              "      <td>United States</td>\n",
              "      <td>United States</td>\n",
              "      <td>July 25, 1980</td>\n",
              "      <td>1980</td>\n",
              "      <td>Comedy</td>\n",
              "      <td>7.3</td>\n",
              "      <td>108000</td>\n",
              "      <td>98.0</td>\n",
              "      <td>6000000</td>\n",
              "      <td>39846344</td>\n",
              "    </tr>\n",
              "  </tbody>\n",
              "</table>\n",
              "</div>\n",
              "      <button class=\"colab-df-convert\" onclick=\"convertToInteractive('df-0ad24838-1478-4e4a-87da-b2d59a8b25f8')\"\n",
              "              title=\"Convert this dataframe to an interactive table.\"\n",
              "              style=\"display:none;\">\n",
              "        \n",
              "  <svg xmlns=\"http://www.w3.org/2000/svg\" height=\"24px\"viewBox=\"0 0 24 24\"\n",
              "       width=\"24px\">\n",
              "    <path d=\"M0 0h24v24H0V0z\" fill=\"none\"/>\n",
              "    <path d=\"M18.56 5.44l.94 2.06.94-2.06 2.06-.94-2.06-.94-.94-2.06-.94 2.06-2.06.94zm-11 1L8.5 8.5l.94-2.06 2.06-.94-2.06-.94L8.5 2.5l-.94 2.06-2.06.94zm10 10l.94 2.06.94-2.06 2.06-.94-2.06-.94-.94-2.06-.94 2.06-2.06.94z\"/><path d=\"M17.41 7.96l-1.37-1.37c-.4-.4-.92-.59-1.43-.59-.52 0-1.04.2-1.43.59L10.3 9.45l-7.72 7.72c-.78.78-.78 2.05 0 2.83L4 21.41c.39.39.9.59 1.41.59.51 0 1.02-.2 1.41-.59l7.78-7.78 2.81-2.81c.8-.78.8-2.07 0-2.86zM5.41 20L4 18.59l7.72-7.72 1.47 1.35L5.41 20z\"/>\n",
              "  </svg>\n",
              "      </button>\n",
              "      \n",
              "  <style>\n",
              "    .colab-df-container {\n",
              "      display:flex;\n",
              "      flex-wrap:wrap;\n",
              "      gap: 12px;\n",
              "    }\n",
              "\n",
              "    .colab-df-convert {\n",
              "      background-color: #E8F0FE;\n",
              "      border: none;\n",
              "      border-radius: 50%;\n",
              "      cursor: pointer;\n",
              "      display: none;\n",
              "      fill: #1967D2;\n",
              "      height: 32px;\n",
              "      padding: 0 0 0 0;\n",
              "      width: 32px;\n",
              "    }\n",
              "\n",
              "    .colab-df-convert:hover {\n",
              "      background-color: #E2EBFA;\n",
              "      box-shadow: 0px 1px 2px rgba(60, 64, 67, 0.3), 0px 1px 3px 1px rgba(60, 64, 67, 0.15);\n",
              "      fill: #174EA6;\n",
              "    }\n",
              "\n",
              "    [theme=dark] .colab-df-convert {\n",
              "      background-color: #3B4455;\n",
              "      fill: #D2E3FC;\n",
              "    }\n",
              "\n",
              "    [theme=dark] .colab-df-convert:hover {\n",
              "      background-color: #434B5C;\n",
              "      box-shadow: 0px 1px 3px 1px rgba(0, 0, 0, 0.15);\n",
              "      filter: drop-shadow(0px 1px 2px rgba(0, 0, 0, 0.3));\n",
              "      fill: #FFFFFF;\n",
              "    }\n",
              "  </style>\n",
              "\n",
              "      <script>\n",
              "        const buttonEl =\n",
              "          document.querySelector('#df-0ad24838-1478-4e4a-87da-b2d59a8b25f8 button.colab-df-convert');\n",
              "        buttonEl.style.display =\n",
              "          google.colab.kernel.accessAllowed ? 'block' : 'none';\n",
              "\n",
              "        async function convertToInteractive(key) {\n",
              "          const element = document.querySelector('#df-0ad24838-1478-4e4a-87da-b2d59a8b25f8');\n",
              "          const dataTable =\n",
              "            await google.colab.kernel.invokeFunction('convertToInteractive',\n",
              "                                                     [key], {});\n",
              "          if (!dataTable) return;\n",
              "\n",
              "          const docLinkHtml = 'Like what you see? Visit the ' +\n",
              "            '<a target=\"_blank\" href=https://colab.research.google.com/notebooks/data_table.ipynb>data table notebook</a>'\n",
              "            + ' to learn more about interactive tables.';\n",
              "          element.innerHTML = '';\n",
              "          dataTable['output_type'] = 'display_data';\n",
              "          await google.colab.output.renderOutput(dataTable, element);\n",
              "          const docLink = document.createElement('div');\n",
              "          docLink.innerHTML = docLinkHtml;\n",
              "          element.appendChild(docLink);\n",
              "        }\n",
              "      </script>\n",
              "    </div>\n",
              "  </div>\n",
              "  "
            ]
          },
          "metadata": {},
          "execution_count": 102
        }
      ]
    },
    {
      "cell_type": "markdown",
      "source": [
        "Save to csv for make more analysis on power BI dashboard"
      ],
      "metadata": {
        "id": "VYaiCt2Xz9Vh"
      }
    },
    {
      "cell_type": "code",
      "source": [
        "df.to_csv('movies_industry.csv' ,index=False)\n",
        "print('Data Cleaning Process Done! \\n thank you')"
      ],
      "metadata": {
        "colab": {
          "base_uri": "https://localhost:8080/"
        },
        "id": "Y3JbKy85vOgm",
        "outputId": "cf47ef39-771d-4d05-bd17-75863e2aa753"
      },
      "execution_count": 103,
      "outputs": [
        {
          "output_type": "stream",
          "name": "stdout",
          "text": [
            "Data Cleaning Process Done! \n",
            " thank you\n"
          ]
        }
      ]
    }
  ]
}